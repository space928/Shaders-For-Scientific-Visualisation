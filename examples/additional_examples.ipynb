{
 "cells": [
  {
   "cell_type": "markdown",
   "id": "3493ef7e-eed2-410b-b3a2-64f3a165f0b1",
   "metadata": {},
   "source": [
    "# Additional Examples\n",
    "This notebook contains more advanced examples using pySSV."
   ]
  },
  {
   "cell_type": "code",
   "execution_count": null,
   "id": "a53a5b8c-76f5-4f15-892b-87c4ed1fa4cd",
   "metadata": {
    "is_executing": true
   },
   "outputs": [],
   "source": [
    "# Google colab support\n",
    "try:\n",
    "    # Try enabling custom widgets, this will fail silently if we're not in Google Colab\n",
    "    from google.colab import output\n",
    "    output.enable_custom_widget_manager()\n",
    "    # Install pySSV for this session\n",
    "    %pip install pySSV\n",
    "except:\n",
    "    pass"
   ]
  },
  {
   "cell_type": "markdown",
   "id": "cb39abbe-1869-4509-8bb4-bbf44762b5b5",
   "metadata": {},
   "source": [
    "### Video\n",
    "This example takes advantage of the point cloud shader template to render video in real time. In this case, the video is compressed into a quadtree (this is obviously not a very good compression algorithm for video, but it's easy to encode/decode so it makes for a good demonstration) which is stored in a texture. Each row of the animation texture stores the quadtree for one frame where each pixel is one cell in the quadtree. The way this is implemented means the cells don't strictly need to be part of a quad tree, they just each represent a single square of a given size, colour, and location. \n",
    "\n",
    "The video quadtree is created by a separate program the code for which can be found here: https://github.com/space928/badapple-quadtree-encoder"
   ]
  },
  {
   "cell_type": "code",
   "execution_count": 2,
   "id": "273fb055-3a5a-4d51-86fc-9b41a61523b4",
   "metadata": {},
   "outputs": [
    {
     "name": "stdout",
     "output_type": "stream",
     "text": [
      "Video file 'badapple_quad.pkl' already exists, using existing version...\n"
     ]
    }
   ],
   "source": [
    "import os.path\n",
    "\n",
    "# Download the compressed video file from the internet if needed (with the user's permission)\n",
    "filename = \"badapple_quad.pkl\"\n",
    "if not os.path.isfile(filename):\n",
    "    if input(\"Encoded video file not found! Do you want to download it now (yes/no)?\")[0] == \"y\":\n",
    "        url = \"https://github.com/space928/badapple-quadtree-encoder/releases/download/0.1.0/badapple_quad.pkl\"\n",
    "        import urllib.request\n",
    "        try:\n",
    "            print(\"Downloading...\")\n",
    "            urllib.request.urlretrieve(url, filename)\n",
    "            print(\"Successfully downloaded encoded video file!\")\n",
    "        except Error as e:\n",
    "            print(f\"Failed to download video: {e}\")\n",
    "else:\n",
    "    print(f\"Video file '{filename}' already exists, using existing version...\")"
   ]
  },
  {
   "cell_type": "code",
   "execution_count": 7,
   "id": "fdfeeee4-d0cd-4bca-99c6-1936b7b33136",
   "metadata": {},
   "outputs": [
    {
     "name": "stderr",
     "output_type": "stream",
     "text": [
      "WARNING:pySSV:[pySSV_Render] [WARNING] [ssv_render_process_server] [__render_process_loop] Render process shutting down... (watchdog)\n",
      "\n",
      "INFO:pySSV:Render server shut down.\n"
     ]
    },
    {
     "name": "stdout",
     "output_type": "stream",
     "text": [
      "Loaded animation! Animation has shape:(4603, 6569, 4)\n"
     ]
    },
    {
     "data": {
      "application/vnd.jupyter.widget-view+json": {
       "model_id": "02410c52f3de47cfa5c0bd8497f72ce0",
       "version_major": 2,
       "version_minor": 0
      },
      "text/plain": [
       "SSVRenderWidget(enable_renderdoc=True, status_logs='[pySSV] [INFO] [threading] [run] Render server shut down.\\…"
      ]
     },
     "metadata": {},
     "output_type": "display_data"
    }
   ],
   "source": [
    "import pySSV as ssv\n",
    "import numpy as np\n",
    "import pickle as pkl\n",
    "\n",
    "canvas5 = ssv.canvas(use_renderdoc=True)\n",
    "with open(\"badapple_quad.pkl\", \"rb\") as f:\n",
    "    anim, frame_lengths = pkl.load(f)\n",
    "    print(f\"Loaded animation! Animation has shape:{anim.shape}\")\n",
    "    \n",
    "canvas5.main_render_buffer.full_screen_vertex_buffer.update_vertex_buffer(np.zeros((anim.shape[0]*6), dtype=np.float32))\n",
    "\n",
    "anim = np.swapaxes(anim, 0, 1)\n",
    "# Dcelare textures, make sure that these textures as treated as ints instead of floats\n",
    "anim_tex = canvas5.texture(anim, \"uAnimTex\", treat_as_normalized_integer=False)\n",
    "frame_lengths_tex = canvas5.texture(frame_lengths, \"uFrameLengthsTex\", treat_as_normalized_integer=False)\n",
    "# Setup texture samplers\n",
    "anim_tex.repeat_x, anim_tex.repeat_y = False, False\n",
    "anim_tex.linear_filtering = False\n",
    "frame_lengths_tex.repeat_x, frame_lengths_tex.repeat_y = False, False\n",
    "frame_lengths_tex.linear_filtering = False\n",
    "\n",
    "canvas5.shader(\"\"\"\n",
    "#pragma SSV point_cloud mainPoint --non_square_points\n",
    "// These are automatically declared by the preprocessor\n",
    "//uniform isampler2D uAnimTex;\n",
    "//uniform isampler2D uFrameLengthsTex;\n",
    "VertexOutput mainPoint()\n",
    "{\n",
    "    VertexOutput o;\n",
    "    // Synchronise the playback to the time uniform, 30 FPS\n",
    "    int frame = int(uTime*30.-20.);\n",
    "    \n",
    "    int frameLen = texelFetch(uFrameLengthsTex, ivec2(0, frame), 0).r;\n",
    "    if(gl_VertexID > frameLen) \n",
    "    {\n",
    "        // Early out for verts not needed in this frame; no geometry will be generated for these as the size is set to 0\n",
    "        o.size = vec2(0.);\n",
    "        return o;\n",
    "    }\n",
    "    // This contains the data for the current quad to rendered (value (0-255), x (pixels), y (pixels), subdivision (0-n))\n",
    "    ivec4 quad = texelFetch(uAnimTex, ivec2(gl_VertexID, frame), 0);\n",
    "    // The size is determined by the subdivision level of the cell in the quad tree. \n",
    "    o.size = vec2(1./pow(2., quad.w-0.1));\n",
    "    if(quad.w == 0)\n",
    "        o.size = vec2(0.);\n",
    "    vec4 pos = vec4(float(quad.z)/480., 1.-float(quad.y)/360., 0., 1.);\n",
    "    pos.xy += o.size/vec2(2., -2.);  // Centre the point\n",
    "    pos = pos*2.-1.;  // To clip space (-1 to 1)\n",
    "    pos += vec4(in_vert, 0.)*1e-8;  // If in_vert is not used, the shader compiler optimises it out which makes OpenGL unhappy; this may be fixed in the future\n",
    "    o.position = pos;\n",
    "    o.color = vec4(vec3(float(quad.x)/255.0)+in_color, 1.0);\n",
    "    return o;\n",
    "}\n",
    "\"\"\")\n",
    "canvas5.run(stream_quality=100)"
   ]
  },
  {
   "cell_type": "markdown",
   "id": "7db72da5-cf90-4204-ba6a-738d1cab8ca0",
   "metadata": {},
   "source": [
    "### Geometry shaders\n",
    "This shader demonstrates the use of custom geometry shaders to render a vector field."
   ]
  },
  {
   "cell_type": "code",
   "execution_count": 4,
   "id": "625af88b-d151-4303-b0ac-0c03f82a6dd0",
   "metadata": {},
   "outputs": [
    {
     "data": {
      "application/vnd.jupyter.widget-view+json": {
       "model_id": "5d0a88e5e5c34ea9a2c8d1e038d0213d",
       "version_major": 2,
       "version_minor": 0
      },
      "text/plain": [
       "SSVRenderWidget(enable_renderdoc=True, streaming_mode='jpg')"
      ]
     },
     "metadata": {},
     "output_type": "display_data"
    }
   ],
   "source": [
    "import pySSV as ssv\n",
    "import numpy as np\n",
    "\n",
    "# Generate some points\n",
    "def generate_points():\n",
    "    width, depth = 64, 64\n",
    "    scale = 3\n",
    "    v_scale = 0.5\n",
    "    f = 0.01\n",
    "    verts = np.zeros((width, depth, 9), dtype='f4')\n",
    "    for z in range(depth):\n",
    "        for x in range(width):\n",
    "            dx = width/2 - x\n",
    "            dz = depth/2 - z\n",
    "            y = np.sin((dx*dx+dz*dz)*f) * v_scale\n",
    "            # Pos\n",
    "            verts[z, x, :3] = [x/width * scale, y, z/depth * scale]\n",
    "            # Colour\n",
    "            verts[z, x, 3:6] = [y/v_scale, abs(y/v_scale), np.sin(y/v_scale*10.)*0.5+0.5]\n",
    "            # Direction\n",
    "            verts[z, x, 6:9] = [dx/width, 0.1, dz/depth]\n",
    "            \n",
    "    return verts.flatten()\n",
    "\n",
    "canvas5 = ssv.canvas(use_renderdoc=True)\n",
    "# Set the contents of default vertex buffer on the main pass (normally used for full-screen shaders, but in this case hijacked for this example)\n",
    "canvas5.main_render_buffer.full_screen_vertex_buffer.update_vertex_buffer(generate_points(), (\"in_vert\", \"in_color\", \"in_dir\"))\n",
    "canvas5.main_camera.target_pos = np.array((1.5, 0, 1.5))\n",
    "#print(canvas5.dbg_preprocess_shader(\"\"\"\n",
    "canvas5.shader(\"\"\"\n",
    "#pragma SSV geometry mainPoint mainGeo --vertex_output_struct VertexOutput --geo_max_vertices 7 --custom_vertex_input\n",
    "struct VertexOutput {\n",
    "    vec4 position;\n",
    "    vec4 color;\n",
    "    vec3 dir;\n",
    "    float size;\n",
    "};\n",
    "\n",
    "#ifdef SHADER_STAGE_VERTEX\n",
    "in vec3 in_vert;\n",
    "in vec3 in_color;\n",
    "in vec3 in_dir;\n",
    "\n",
    "VertexOutput mainPoint()\n",
    "{\n",
    "    VertexOutput o;\n",
    "    vec4 pos = vec4(in_vert, 1.0);\n",
    "    //pos = uViewMat * pos;\n",
    "    //pos = uProjMat * pos;\n",
    "    o.position = pos;\n",
    "    o.color = vec4(in_color, 1.);\n",
    "    o.size = 30.0/uResolution.x;\n",
    "    o.dir = normalize(in_dir);\n",
    "    return o;\n",
    "}\n",
    "#endif\n",
    "\n",
    "#ifdef SHADER_STAGE_GEOMETRY\n",
    "void mainGeo(VertexOutput i) {\n",
    "    vec4 position = i.position;\n",
    "    float size = i.size;\n",
    "    // This output variable is defined by the template and must be written to before the first EmitVertex() call to take effect\n",
    "    out_color = i.color;\n",
    "    vec3 fwd = normalize((uViewMat * vec4(0., 0., 1., 0.)).xyz);\n",
    "    vec3 perp = normalize(cross(i.dir, fwd));\n",
    "    vec4 aspect_ratio = vec4(1., uResolution.x/uResolution.y, 1., 1.);\n",
    "    float baseWidth = 0.05;\n",
    "    float headWidth = 0.2;\n",
    "    float headLength = 0.4;\n",
    "    // Now we draw an arrow\n",
    "    // Base\n",
    "    out_color = vec4(0.,0.,0.,1.);\n",
    "    gl_Position = position + size * vec4(perp*baseWidth, 0.0) * aspect_ratio;\n",
    "    gl_Position = uProjMat * uViewMat * gl_Position;\n",
    "    EmitVertex();\n",
    "    gl_Position = position + size * vec4(-perp*baseWidth, 0.0) * aspect_ratio;\n",
    "    gl_Position = uProjMat * uViewMat * gl_Position;\n",
    "    EmitVertex();\n",
    "    out_color = i.color;\n",
    "    gl_Position = position + size * vec4(i.dir + perp*baseWidth, 0.0) * aspect_ratio;\n",
    "    gl_Position = uProjMat * uViewMat * gl_Position;\n",
    "    EmitVertex();\n",
    "    gl_Position = position + size * vec4(i.dir - perp*baseWidth, 0.0) * aspect_ratio;\n",
    "    gl_Position = uProjMat * uViewMat * gl_Position;\n",
    "    EmitVertex();\n",
    "    EndPrimitive();\n",
    "    // Head\n",
    "    gl_Position = position + size * vec4(i.dir + perp*headWidth, 0.0) * aspect_ratio;\n",
    "    gl_Position = uProjMat * uViewMat * gl_Position;\n",
    "    EmitVertex();\n",
    "    gl_Position = position + size * vec4(i.dir + -perp*headWidth, 0.0) * aspect_ratio;\n",
    "    gl_Position = uProjMat * uViewMat * gl_Position;\n",
    "    EmitVertex();\n",
    "    gl_Position = position + size * vec4(i.dir * (1.+headLength), 0.0) * aspect_ratio;\n",
    "    gl_Position = uProjMat * uViewMat * gl_Position;\n",
    "    EmitVertex();\n",
    "    EndPrimitive();\n",
    "}\n",
    "#endif\n",
    "\"\"\")#)\n",
    "canvas5.run(stream_quality=100)"
   ]
  },
  {
   "cell_type": "code",
   "execution_count": null,
   "id": "f4f8a8c7-8b54-4186-b00c-c0116e53343d",
   "metadata": {},
   "outputs": [],
   "source": []
  }
 ],
 "metadata": {
  "kernelspec": {
   "display_name": "Python 3 (ipykernel)",
   "language": "python",
   "name": "python3"
  },
  "language_info": {
   "codemirror_mode": {
    "name": "ipython",
    "version": 3
   },
   "file_extension": ".py",
   "mimetype": "text/x-python",
   "name": "python",
   "nbconvert_exporter": "python",
   "pygments_lexer": "ipython3",
   "version": "3.11.6"
  }
 },
 "nbformat": 4,
 "nbformat_minor": 5
}

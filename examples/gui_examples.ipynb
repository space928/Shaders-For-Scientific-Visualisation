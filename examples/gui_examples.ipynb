{
 "cells": [
  {
   "cell_type": "markdown",
   "id": "23f488cf-9c83-4d8c-9b5e-76d5779a1ff8",
   "metadata": {},
   "source": [
    "# pySSV GUI Library Examples\n",
    "*pySSV* includes a powerful and easy to use immediate mode GUI library to create interactive user interfaces for your shaders."
   ]
  },
  {
   "cell_type": "code",
   "execution_count": 2,
   "id": "701adfe4-0f3a-40d4-a71a-3b057e9e760a",
   "metadata": {},
   "outputs": [
    {
     "data": {
      "application/vnd.jupyter.widget-view+json": {
       "model_id": "b5985661fa9549799e002ebd7725b4f9",
       "version_major": 2,
       "version_minor": 0
      },
      "text/plain": [
       "SSVRenderWidget(enable_renderdoc=True)"
      ]
     },
     "metadata": {},
     "output_type": "display_data"
    }
   ],
   "source": [
    "import pySSV as ssv\n",
    "from pySSV.ssv_gui import create_gui, SSVGUI\n",
    "from pySSV import ssv_colour\n",
    "\n",
    "class MyGUI:\n",
    "    check_box_value = False\n",
    "    \n",
    "    def on_gui_draw(self, gui: SSVGUI):\n",
    "        # Begin drawing our GUI in here.\n",
    "        # This is an imeadiate mode gui, so any time the GUI is invalidated (on mouse click for instance), we redraw the entire GUI.\n",
    "        # The GUI drawing methods used here should *only* be used within the on_gui callback.\n",
    "        gui.begin_vertical(pad=True)\n",
    "        gui.rounded_rect(ssv_colour.ui_base_bg, overlay_last=True)\n",
    "        gui.button(\"Hello world!\")\n",
    "        gui.button(\"GUIs are Awesome\", ssv_colour.orange)\n",
    "        \n",
    "        gui.begin_horizontal()\n",
    "        gui.rounded_rect(ssv_colour.violet)\n",
    "        gui.rounded_rect(ssv_colour.darkgrey)\n",
    "        gui.end_horizontal()\n",
    "        \n",
    "        gui.label(\"Shaders are cool!\", font_size=((gui.canvas.mouse_pos[0])**1.5)/10, x_offset=5, overlay_last=True)\n",
    "\n",
    "        gui.begin_horizontal()\n",
    "        gui.button(\"Horizontal\", ssv_colour.red)\n",
    "        gui.button(\"Layout\", ssv_colour.green)\n",
    "        gui.button(\"Groups\", ssv_colour.blue)\n",
    "        gui.end_horizontal()\n",
    "\n",
    "        gui.space()\n",
    "        self.check_box_value = gui.check_box(\"We can enable layout groups\", self.check_box_value)\n",
    "        gui.begin_toggle(self.check_box_value)\n",
    "        gui.button(\"This control can be hidden\", ssv_colour.olive)\n",
    "        gui.button(\"Peekaboo\", ssv_colour.emeraldgreen)\n",
    "        gui.end_toggle()\n",
    "        gui.button(\"Controls are automatically layed out\", ssv_colour.navy)\n",
    "\n",
    "        gui.space(height=30)\n",
    "        \n",
    "        gui.end_vertical()\n",
    "\n",
    "# Set up a basic canvas\n",
    "canvas = ssv.canvas(use_renderdoc=True)\n",
    "# Now create an SSVGUI\n",
    "gui = create_gui(canvas)\n",
    "my_gui = MyGUI()\n",
    "# Register a callback to the on_gui event\n",
    "gui.on_gui(lambda x: my_gui.on_gui_draw(x))\n",
    "# Now we render a shader as usual\n",
    "canvas.shader(\"\"\"\n",
    "#pragma SSV shadertoy\n",
    "void mainImage(out vec4 fragColor, in vec2 fragCoord)\n",
    "{\n",
    "    // Normalized pixel coordinates (from 0 to 1)\n",
    "    vec2 uv = fragCoord/iResolution.yy;\n",
    "    // Colour changing over time\n",
    "    vec3 col = sin(uv.xyx + iTime * vec3(3, 4, 5)) * 0.5 + 0.5;\n",
    "    float alpha = smoothstep(0.1, 0.1+2./iResolution.y, 1.-length(uv*2.-1.));\n",
    "    // Output to screen\n",
    "    fragColor = vec4(vec3(col), 1.0);\n",
    "}\n",
    "\"\"\")\n",
    "canvas.run(stream_mode=\"png\")"
   ]
  },
  {
   "cell_type": "code",
   "execution_count": null,
   "id": "7a4eea2d-fdb3-4548-b6d8-c17bd185a7b5",
   "metadata": {},
   "outputs": [],
   "source": []
  },
  {
   "cell_type": "code",
   "execution_count": null,
   "id": "88e08834-ef1b-4a99-9e5e-a8763f655aa6",
   "metadata": {},
   "outputs": [],
   "source": []
  }
 ],
 "metadata": {
  "kernelspec": {
   "display_name": "Python 3 (ipykernel)",
   "language": "python",
   "name": "python3"
  },
  "language_info": {
   "codemirror_mode": {
    "name": "ipython",
    "version": 3
   },
   "file_extension": ".py",
   "mimetype": "text/x-python",
   "name": "python",
   "nbconvert_exporter": "python",
   "pygments_lexer": "ipython3",
   "version": "3.11.6"
  }
 },
 "nbformat": 4,
 "nbformat_minor": 5
}

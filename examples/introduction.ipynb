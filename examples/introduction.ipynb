{
 "cells": [
  {
   "cell_type": "markdown",
   "metadata": {},
   "source": [
    "# Introduction\n",
    "This notebook demonstrates a few example uses for pySSV.\n",
    "\n",
    "In these first few examples we demonstrate some basic fragment shaders."
   ]
  },
  {
   "cell_type": "code",
   "execution_count": 1,
   "metadata": {
    "collapsed": false,
    "is_executing": true,
    "jupyter": {
     "outputs_hidden": false
    }
   },
   "outputs": [],
   "source": [
    "# Google colab support\n",
    "try:\n",
    "    # Try enabling custom widgets, this will fail silently if we're not in Google Colab\n",
    "    from google.colab import output\n",
    "    output.enable_custom_widget_manager()\n",
    "    # Install pySSV for this session\n",
    "    %pip install pySSV\n",
    "except:\n",
    "    pass"
   ]
  },
  {
   "cell_type": "code",
   "execution_count": 1,
   "metadata": {
    "tags": []
   },
   "outputs": [],
   "source": [
    "import pySSV as ssv\n",
    "import logging\n",
    "ssv.ssv_logging.set_severity(logging.INFO)"
   ]
  },
  {
   "cell_type": "code",
   "execution_count": 3,
   "metadata": {
    "tags": []
   },
   "outputs": [],
   "source": [
    "# Create a new SSVCanvas, the canvas is responsible for managing the OpenGL context, the render widget, and the state of the renderer.\n",
    "canvas = ssv.canvas()\n",
    "# Check what graphics adapter we're using\n",
    "canvas.dbg_log_context()\n",
    "# Set up a very basic shader program to check it's working\n",
    "canvas.dbg_render_test()"
   ]
  },
  {
   "cell_type": "code",
   "execution_count": 4,
   "metadata": {},
   "outputs": [
    {
     "data": {
      "application/vnd.jupyter.widget-view+json": {
       "model_id": "96692980ec8e422bb094de06717182be",
       "version_major": 2,
       "version_minor": 0
      },
      "text/plain": [
       "SSVRenderWidget()"
      ]
     },
     "metadata": {},
     "output_type": "display_data"
    }
   ],
   "source": [
    "# run() starts the render loop, it will continuously render frames until stop() is called or the widget is destroyed.\n",
    "# We set the stream mode to png here as it supports transparency. In general though, jpg (the default) is much faster.\n",
    "canvas.run(stream_mode=\"png\")"
   ]
  },
  {
   "cell_type": "code",
   "execution_count": 5,
   "metadata": {
    "tags": []
   },
   "outputs": [],
   "source": [
    "canvas.stop()"
   ]
  },
  {
   "cell_type": "markdown",
   "metadata": {
    "collapsed": false,
    "jupyter": {
     "outputs_hidden": false
    }
   },
   "source": [
    "### Mouse input\n",
    "Here's a basic example of a shader that makes use of mouse position. With the `dbg_shader()` method, glsl code is generated around your shader to support ShaderToy-like shaders. In this case the canvas resolution is passed is in as `iResolution` and the mouse position as `iMouse`."
   ]
  },
  {
   "cell_type": "code",
   "execution_count": 6,
   "metadata": {
    "tags": []
   },
   "outputs": [
    {
     "data": {
      "application/vnd.jupyter.widget-view+json": {
       "model_id": "645c040dbb4f4434823d44423ec4d9c2",
       "version_major": 2,
       "version_minor": 0
      },
      "text/plain": [
       "SSVRenderWidget(streaming_mode='jpg')"
      ]
     },
     "metadata": {},
     "output_type": "display_data"
    }
   ],
   "source": [
    "import pySSV as ssv\n",
    "canvas1 = ssv.canvas()\n",
    "canvas1.shader(\"\"\"\n",
    "#pragma SSV shadertoy mainImage\n",
    "vec4 mainImage( in vec2 fragCoord )\n",
    "{\n",
    "    // Normalized pixel coordinates (from 0 to 1)\n",
    "    vec2 uv = fragCoord/iResolution.xx;\n",
    "    float aaScale = 1./iResolution.x;\n",
    "\n",
    "    vec2 mouse = uv-iMouse.xy / iResolution.xx;\n",
    "\n",
    "    // Time varying pixel color\n",
    "    vec3 col = vec3(smoothstep(0.9, .95, 1.-length(mouse)));\n",
    "    col -= 1.-vec3(step(dot(step(abs(mouse), vec2(0.8/iResolution.x, 5./iResolution.x)), vec2(0.5)), 0.5));\n",
    "    col -= 1.-vec3(step(dot(step(abs(mouse), vec2(5./iResolution.x, 0.8/iResolution.x)), vec2(0.5)), 0.5));\n",
    "\n",
    "    // Output to screen\n",
    "    return vec4(vec3(col), 1.0);\n",
    "}\n",
    "\"\"\")\n",
    "canvas1.run()"
   ]
  },
  {
   "cell_type": "markdown",
   "metadata": {
    "collapsed": false,
    "jupyter": {
     "outputs_hidden": false
    }
   },
   "source": [
    "Here's a more complex shader taken almost directly from ShaderToy."
   ]
  },
  {
   "cell_type": "code",
   "execution_count": 7,
   "metadata": {
    "is_executing": true,
    "tags": []
   },
   "outputs": [
    {
     "data": {
      "application/vnd.jupyter.widget-view+json": {
       "model_id": "e8050d0e912949a7af489eb88b33dab6",
       "version_major": 2,
       "version_minor": 0
      },
      "text/plain": [
       "SSVRenderWidget(streaming_mode='jpg')"
      ]
     },
     "metadata": {},
     "output_type": "display_data"
    }
   ],
   "source": [
    "canvas2 = ssv.canvas()\n",
    "canvas2.shader(\"\"\"\n",
    "#pragma SSV shadertoy mainImage\n",
    "// Copyright Thomas Mathieson all rights reserved\n",
    "// https://www.shadertoy.com/view/DsffWM\n",
    "const float motionBlur = 0.3;\n",
    "const float aa = 0.6;\n",
    "const vec3 col1 = vec3(13., 45., 140.)/100.;\n",
    "const vec3 col2 = vec3(255., 20., 50.)/255.;\n",
    "const vec3 col3 = vec3(21., 191., 112.)/600.;\n",
    "const vec3 col4 = vec3(0.35, 1., 0.7)*0.65;\n",
    "const float speed = 0.1;\n",
    "\n",
    "float sigmoid(float x)\n",
    "{\n",
    "    return 1.*x/(abs(x)+1.);\n",
    "}\n",
    "vec3 sigmoid(vec3 x)\n",
    "{\n",
    "    return x/(abs(x)+vec3(1.));\n",
    "}\n",
    "vec3 saturate(vec3 x)\n",
    "{\n",
    "    return clamp(x, 0., 1.);\n",
    "}\n",
    "vec3 blend(float x, vec3 c)\n",
    "{\n",
    "    c = pow(c, vec3(x+2.));\n",
    "    return mix(x*c, x*(1.-c), step(x, 0.));\n",
    "}\n",
    "\n",
    "float f(vec2 p, float t, vec4 o, vec4 o1, float s, vec4 scale)\n",
    "{\n",
    "    vec4 i0 = cos(t+o)*vec4(o.xw, o1.xw);\n",
    "    vec4 i1 = sin(t+o1)*vec4(o.xw, o1.xw);\n",
    "    vec4 x0 = i0*s*sin(scale*length(p*o.xy+4.*scale.zw)+o.z+t*o.w);\n",
    "    vec4 x1 = i1*s*sin(scale*length(p*o1.xy)+o1.z+t*o1.w);\n",
    "    return sigmoid(dot(x0+x1, vec4(1.)));\n",
    "}\n",
    "\n",
    "vec3 scene(float t, float emphasis, vec2 uv)\n",
    "{\n",
    "    // \"Beautiful\" randomness, tuned for aesthetics, not performance\n",
    "    vec2 p = uv * 3.;\n",
    "    t += 160.;\n",
    "    t *= speed;\n",
    "    vec4 scale = vec4(sin(t*vec3(0.25, .5, .75)), cos(t*.95))*.25+.5;\n",
    "    float s0 = f(p, t, vec4(6.,9.,2.,1.5), vec4(2.,9.,7.,3.), .25, scale);\n",
    "    float s1 = f(p, t, vec4(2.,6.5,1.5,4.0), vec4(3.,2.5,3.8,1.6), .5, scale);\n",
    "    float s2 = sigmoid(s0/s1)*0.5;\n",
    "    float s3 = f(p, t, vec4(2.,9.,7.,3.), vec4(6.,3.,2.,1.5), .125, scale);\n",
    "    float s6 = f(p*1.5, t, vec4(6.,4.,8.,2.5), vec4(3.2,1.6,9.7,7.9), .25, scale);\n",
    "    float s7 = f(p*1.3, t, vec4(2.,6.5,1.5,4.0), vec4(3.,2.5,3.8,1.6), .5, scale);\n",
    "    float s8 = sigmoid(s6/s7+s0)*0.7;\n",
    "    \n",
    "    vec3 c = vec3(sigmoid((blend(s8,col1)+blend(s2,col2)+blend(s1,col3)+s7*1.)*1.1)*.7+.5);\n",
    "    float grad = sigmoid(pow(length(uv*2.-1.)+s3*.3, 5.))*1.5;\n",
    "    float accent = 1.-sigmoid((pow(2.5, abs(sigmoid(s8+s0+s1))-1.)-.45-(emphasis*0.1))*1000./(1.+30.*grad+20.*emphasis));\n",
    "    c = mix(c, c.r*.3+col4*.8, accent);\n",
    "    return clamp(vec3(c), 0., 1.);\n",
    "}\n",
    "\n",
    "vec4 mainImage( in vec2 fragCoord )\n",
    "{\n",
    "    // Normalized pixel coordinates (from 0 to 1)\n",
    "    vec2 uv = fragCoord/iResolution.xx;\n",
    "    float aaScale = 1./iResolution.x;\n",
    "\n",
    "    vec2 mouse = uv-iMouse.xy /iResolution.xx;\n",
    "    float emp = sigmoid(1./pow(length(mouse*1.), 1.8)*.02);\n",
    "\n",
    "    // Time varying pixel color\n",
    "    vec3 col = scene(iTime, emp, uv);\n",
    "    //col     += scene(iTime + motionBlur*0.001, emp, uv + aaScale*aa*vec2(0.,1.))\n",
    "    //         + scene(iTime + motionBlur*0.002, emp, uv + aaScale*aa*vec2(1.,0.));\n",
    "    //col /= 3.;\n",
    "\n",
    "    // Output to screen\n",
    "    return vec4(vec3(col), 1.0);\n",
    "}\n",
    "\"\"\")\n",
    "canvas2.run(stream_quality=100)"
   ]
  },
  {
   "cell_type": "markdown",
   "metadata": {},
   "source": [
    "Here's an example using the signed distance field template:"
   ]
  },
  {
   "cell_type": "code",
   "execution_count": 3,
   "metadata": {},
   "outputs": [
    {
     "data": {
      "application/vnd.jupyter.widget-view+json": {
       "model_id": "3fe9f9344a744d9785b6ab5de1c8f904",
       "version_major": 2,
       "version_minor": 0
      },
      "text/plain": [
       "SSVRenderWidget(streaming_mode='jpg')"
      ]
     },
     "metadata": {},
     "output_type": "display_data"
    }
   ],
   "source": [
    "import pySSV as ssv\n",
    "canvas3 = ssv.canvas()\n",
    "canvas3.shader(\"\"\"\n",
    "#pragma SSV sdf sdf_main --camera_distance 2. --rotate_speed 1.5 --render_mode SOLID\n",
    "\n",
    "// SDF taken from: https://iquilezles.org/articles/distfunctions/\n",
    "float sdCappedTorus(vec3 p, vec2 sc, float ra, float rb) {\n",
    "  p.x = abs(p.x);\n",
    "  float k = (sc.y*p.x>sc.x*p.y) ? dot(p.xy,sc) : length(p.xy);\n",
    "  return sqrt( dot(p,p) + ra*ra - 2.0*ra*k ) - rb;\n",
    "}\n",
    "\n",
    "float sdf_main(vec3 p) {\n",
    "    float t = 2.*(sin(uTime)*0.5+0.5)+0.2;\n",
    "    return sdCappedTorus(p, vec2(sin(t), cos(t)), 0.5, 0.2);\n",
    "}\n",
    "\"\"\")\n",
    "canvas3.run(stream_quality=100)"
   ]
  },
  {
   "cell_type": "code",
   "execution_count": 48,
   "metadata": {},
   "outputs": [],
   "source": [
    "if \"canvas\" in globals():\n",
    "    canvas.stop()\n",
    "if \"canvas1\" in globals():\n",
    "    canvas1.stop()\n",
    "if \"canvas2\" in globals():\n",
    "    canvas2.stop()\n",
    "if \"canvas3\" in globals():\n",
    "    canvas3.stop()"
   ]
  },
  {
   "cell_type": "markdown",
   "metadata": {},
   "source": [
    "### Debugging Shaders\n",
    "Shaders can get quite complex so pySSV provides a few tools to simplify debugging your shaders.\n",
    "\n",
    "#### Preprocessor Dump\n",
    "It can be helpful to view the GLSL generated by the pre processor to understand why things are going wrong:"
   ]
  },
  {
   "cell_type": "code",
   "execution_count": 1,
   "metadata": {},
   "outputs": [
    {
     "name": "stdout",
     "output_type": "stream",
     "text": [
      "#####################################\n",
      "##########  Vertex Shader  ##########\n",
      "#####################################\n",
      "#version 420\n",
      "#line 3 \"global_uniforms.glsl\"\n",
      "uniform float uTime;\n",
      "uniform vec4 uResolution;\n",
      "uniform vec2 uMouse;\n",
      "#line 24 \"template_shadertoy.glsl\"\n",
      "in vec2 in_vert;\n",
      "in vec3 in_color;\n",
      "out vec3 color;\n",
      "out vec2 position;\n",
      "void main() {\n",
      "    gl_Position = vec4(in_vert, 0.0, 1.0);\n",
      "    color = in_color;\n",
      "    position = in_vert*0.5+0.5;\n",
      "}\n",
      "\n",
      "#####################################\n",
      "########## Fragment Shader ##########\n",
      "#####################################\n",
      "#version 420\n",
      "#line 3 \"global_uniforms.glsl\"\n",
      "uniform float uTime;\n",
      "uniform vec4 uResolution;\n",
      "uniform vec2 uMouse;\n",
      "#line 37 \"template_shadertoy.glsl\"\n",
      "out vec4 fragColor;\n",
      "in vec3 color;\n",
      "in vec2 position;\n",
      "#line 3 \"TEMPLATE_DATA\"\n",
      "vec4 mainImage( in vec2 fragCoord )\n",
      "{\n",
      "    // Normalized pixel coordinates (from 0 to 1)\n",
      "    vec2 uv = fragCoord/uResolution.xx;\n",
      "    float aaScale = 1./uResolution.x;\n",
      "\n",
      "    vec2 mouse = uv-uMouse.xy / uResolution.xx;\n",
      "\n",
      "    // Time varying pixel color\n",
      "    vec3 col = vec3(smoothstep(0.9, .95, 1.-length(mouse)));\n",
      "    col -= 1.-vec3(step(dot(step(abs(mouse), vec2(0.8/uResolution.x, 5./uResolution.x)), vec2(0.5)), 0.5));\n",
      "    col -= 1.-vec3(step(dot(step(abs(mouse), vec2(5./uResolution.x, 0.8/uResolution.x)), vec2(0.5)), 0.5));\n",
      "\n",
      "    // Output to screen\n",
      "    return vec4(vec3(col), 1.0);\n",
      "}\n",
      "#line 43 \"template_shadertoy.glsl\"\n",
      "void main() {\n",
      "\n",
      "    fragColor = mainImage(position * uResolution.xy) + vec4(color, 1.0)*1e-6;\n",
      "}\n",
      "\n"
     ]
    }
   ],
   "source": [
    "import pySSV as ssv\n",
    "canvas1 = ssv.canvas()\n",
    "shader = canvas1.dbg_preprocess_shader(\"\"\"\n",
    "#pragma SSV shadertoy mainImage\n",
    "vec4 mainImage( in vec2 fragCoord )\n",
    "{\n",
    "    // Normalized pixel coordinates (from 0 to 1)\n",
    "    vec2 uv = fragCoord/iResolution.xx;\n",
    "    float aaScale = 1./iResolution.x;\n",
    "\n",
    "    vec2 mouse = uv-iMouse.xy / iResolution.xx;\n",
    "\n",
    "    // Time varying pixel color\n",
    "    vec3 col = vec3(smoothstep(0.9, .95, 1.-length(mouse)));\n",
    "    col -= 1.-vec3(step(dot(step(abs(mouse), vec2(0.8/iResolution.x, 5./iResolution.x)), vec2(0.5)), 0.5));\n",
    "    col -= 1.-vec3(step(dot(step(abs(mouse), vec2(5./iResolution.x, 0.8/iResolution.x)), vec2(0.5)), 0.5));\n",
    "\n",
    "    // Output to screen\n",
    "    return vec4(vec3(col), 1.0);\n",
    "}\n",
    "\"\"\")\n",
    "print(\"#####################################\")\n",
    "print(\"##########  Vertex Shader  ##########\")\n",
    "print(\"#####################################\")\n",
    "print(shader[\"vertex_shader\"])\n",
    "print(\"#####################################\")\n",
    "print(\"########## Fragment Shader ##########\")\n",
    "print(\"#####################################\")\n",
    "print(shader[\"fragment_shader\"])"
   ]
  },
  {
   "cell_type": "markdown",
   "metadata": {},
   "source": [
    "#### List Shader Templates\n",
    "You can also get a list of all the installed shader templates."
   ]
  },
  {
   "cell_type": "code",
   "execution_count": 2,
   "metadata": {},
   "outputs": [
    {
     "name": "stdout",
     "output_type": "stream",
     "text": [
      "Found shader templates: \n",
      "\n",
      "\t'pixel'\n",
      "\t\tAuthor: Thomas Mathieson\n",
      "\t\tDescription: A simple full screen pixel shader.\n",
      "\n",
      "\t'sdf'\n",
      "\t\tAuthor: Thomas Mathieson\n",
      "\t\tDescription: A shader template which allows you to render custom signed distance functions.\n",
      "\n",
      "\t'shadertoy'\n",
      "\t\tAuthor: Thomas Mathieson\n",
      "\t\tDescription: A simple full screen pixel shader with compatibility for Shadertoy shaders.\n",
      "\n",
      "\t'vert'\n",
      "\t\tAuthor: Thomas Mathieson\n",
      "\t\tDescription: A minimal shader template to render vertices with their vertex colours.\n"
     ]
    }
   ],
   "source": [
    "print(canvas1.dbg_query_shader_templates(additional_template_directory=None))"
   ]
  },
  {
   "cell_type": "markdown",
   "metadata": {},
   "source": [
    "#### Query Shader Template Arguments\n",
    "And you can query a shader template for it's arguments."
   ]
  },
  {
   "cell_type": "code",
   "execution_count": 3,
   "metadata": {},
   "outputs": [
    {
     "name": "stdout",
     "output_type": "stream",
     "text": [
      "usage: #pragma SSV sdf [--camera_distance CAMERA_DISTANCE] [--rotate_speed ROTATE_SPEED] [--raymarch_steps RAYMARCH_STEPS]\n",
      "                       [--raymarch_distance RAYMARCH_DISTANCE] [--light_dir LIGHT_DIR] [--render_mode {SOLID,DEPTH,XRAY,ISOLINES}]\n",
      "                       entrypoint\n",
      "\n",
      "A shader template which allows you to render custom signed distance functions.\n",
      "\n",
      "positional arguments:\n",
      "  entrypoint            The name of the sdf function in the shader.\n",
      "\n",
      "options:\n",
      "  --camera_distance CAMERA_DISTANCE, -c CAMERA_DISTANCE\n",
      "                        The distance of the camera from the centre of the distance field. (default: 10.0)\n",
      "  --rotate_speed ROTATE_SPEED, -r ROTATE_SPEED\n",
      "                        The orbit speed of the camera around the SDF, in radians/second. (default: 0.1)\n",
      "  --raymarch_steps RAYMARCH_STEPS\n",
      "                        The number of raymarching steps to use when rendering, turn this up if the edges of surfaces look soft. (default: 128)\n",
      "  --raymarch_distance RAYMARCH_DISTANCE\n",
      "                        The maximum distance to raymarch. (default: 32.)\n",
      "  --light_dir LIGHT_DIR, -l LIGHT_DIR\n",
      "                        The maximum distance to raymarch. (default: normalize(vec3(0.5, 0.5, -0.9)))\n",
      "  --render_mode {SOLID,DEPTH,XRAY,ISOLINES}\n",
      "                        How the distance field should be rendered. Check the documentation for more information about each mode. (default: SOLID)\n",
      "\n",
      "author: Thomas Mathieson\n",
      "\n"
     ]
    }
   ],
   "source": [
    "print(canvas1.dbg_query_shader_template(\"sdf\"))"
   ]
  },
  {
   "cell_type": "markdown",
   "metadata": {},
   "source": [
    "#### OpenGL Context\n",
    "If you're trying to track down a driver bug or platform specific oddity, having the graphics adapter information can be helpful"
   ]
  },
  {
   "cell_type": "code",
   "execution_count": 4,
   "metadata": {},
   "outputs": [
    {
     "name": "stderr",
     "output_type": "stream",
     "text": [
      "INFO:pySSV:[pySSV_Render] [INFO] [ssv_render_process_server] [__parse_render_command] Got OpenGL context:\n",
      "\tGL_VENDOR=NVIDIA Corporation\n",
      "\tGL_RENDERER=NVIDIA GeForce GTX 1660 Ti/PCIe/SSE2\n",
      "\tGL_VERSION=3.3.0 NVIDIA 537.42\n",
      "\n"
     ]
    }
   ],
   "source": [
    "canvas1.dbg_log_context(full=False)"
   ]
  },
  {
   "cell_type": "markdown",
   "metadata": {},
   "source": [
    "#### Frame Times\n",
    "*pySSV* also provides rudimentry frame time logging to identify bottlenecks."
   ]
  },
  {
   "cell_type": "code",
   "execution_count": 11,
   "metadata": {},
   "outputs": [],
   "source": [
    "canvas1.dbg_log_frame_times(enabled=True)\n",
    "# Then you just need to run the canvas\n",
    "# canvas1.dbg_render_test()\n",
    "# canvas1.run()"
   ]
  },
  {
   "cell_type": "code",
   "execution_count": 12,
   "metadata": {},
   "outputs": [],
   "source": [
    "canvas1.stop(force=True)"
   ]
  },
  {
   "cell_type": "code",
   "execution_count": null,
   "metadata": {},
   "outputs": [],
   "source": []
  }
 ],
 "metadata": {
  "kernelspec": {
   "display_name": "Python 3 (ipykernel)",
   "language": "python",
   "name": "python3"
  },
  "language_info": {
   "codemirror_mode": {
    "name": "ipython",
    "version": 3
   },
   "file_extension": ".py",
   "mimetype": "text/x-python",
   "name": "python",
   "nbconvert_exporter": "python",
   "pygments_lexer": "ipython3",
   "version": "3.11.6"
  }
 },
 "nbformat": 4,
 "nbformat_minor": 4
}

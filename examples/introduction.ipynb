{
 "cells": [
  {
   "cell_type": "markdown",
   "metadata": {},
   "source": [
    "# Introduction\n",
    "This notebook demonstrates a few example uses for pySSV and includes examples for many of the supported features. \n",
    "\n",
    "In these first few examples we demonstrate some basic fragment shaders."
   ]
  },
  {
   "cell_type": "code",
   "execution_count": null,
   "metadata": {
    "collapsed": false,
    "is_executing": true,
    "jupyter": {
     "outputs_hidden": false
    }
   },
   "outputs": [],
   "source": [
    "# Google colab support\n",
    "try:\n",
    "    # Try enabling custom widgets, this will fail silently if we're not in Google Colab\n",
    "    from google.colab import output\n",
    "    output.enable_custom_widget_manager()\n",
    "    # Install pySSV for this session\n",
    "    %pip install pySSV\n",
    "except:\n",
    "    pass"
   ]
  },
  {
   "cell_type": "code",
   "execution_count": null,
   "metadata": {
    "ExecuteTime": {
     "end_time": "2023-12-02T10:19:29.482250800Z",
     "start_time": "2023-12-02T10:19:29.359894500Z"
    },
    "tags": []
   },
   "outputs": [],
   "source": [
    "import pySSV as ssv\n",
    "import logging\n",
    "ssv.ssv_logging.set_severity(logging.INFO)"
   ]
  },
  {
   "cell_type": "code",
   "execution_count": null,
   "metadata": {
    "tags": []
   },
   "outputs": [],
   "source": [
    "# Create a new SSVCanvas, the canvas is responsible for managing the OpenGL context, the render widget, and the state of the renderer.\n",
    "canvas = ssv.canvas()\n",
    "# Check what graphics adapter we're using\n",
    "canvas.dbg_log_context()\n",
    "# Set up a very basic shader program to check it's working\n",
    "canvas.shader(\"\"\"\n",
    "#pragma SSV shadertoy\n",
    "void mainImage(out vec4 fragColor, in vec2 fragCoord)\n",
    "{\n",
    "    // Normalized pixel coordinates (from 0 to 1)\n",
    "    vec2 uv = fragCoord/iResolution.yy;\n",
    "    // Colour changing over time\n",
    "    vec3 col = sin(uv.xyx + iTime * vec3(3, 4, 5)) * 0.5 + 0.5;\n",
    "    float alpha = smoothstep(0.1, 0.1+2./iResolution.y, 1.-length(uv*2.-1.));\n",
    "    // Output to screen\n",
    "    fragColor = vec4(vec3(col), alpha);\n",
    "}\n",
    "\"\"\")"
   ]
  },
  {
   "cell_type": "code",
   "execution_count": null,
   "metadata": {},
   "outputs": [],
   "source": [
    "# run() starts the render loop, it will continuously render frames until stop() is called or the widget is destroyed.\n",
    "# We set the stream mode to png here as it supports transparency. In general though, jpg (the default) is much faster.\n",
    "canvas.run(stream_mode=\"png\")"
   ]
  },
  {
   "cell_type": "code",
   "execution_count": null,
   "metadata": {
    "tags": []
   },
   "outputs": [],
   "source": [
    "canvas.stop()"
   ]
  },
  {
   "cell_type": "markdown",
   "metadata": {
    "collapsed": false,
    "jupyter": {
     "outputs_hidden": false
    }
   },
   "source": [
    "### Mouse input\n",
    "Here's a basic example of a shader that makes use of mouse position. With the `dbg_shader()` method, glsl code is generated around your shader to support ShaderToy-like shaders. In this case the canvas resolution is passed is in as `iResolution` and the mouse position as `iMouse`."
   ]
  },
  {
   "cell_type": "code",
   "execution_count": null,
   "metadata": {
    "tags": []
   },
   "outputs": [],
   "source": [
    "import pySSV as ssv\n",
    "canvas1 = ssv.canvas()\n",
    "canvas1.shader(\"\"\"\n",
    "#pragma SSV pixel mainImage\n",
    "vec4 mainImage( in vec2 fragCoord )\n",
    "{\n",
    "    // Normalized pixel coordinates (from 0 to 1)\n",
    "    vec2 uv = fragCoord/uResolution.xx;\n",
    "    float aaScale = 1./uResolution.x;\n",
    "\n",
    "    vec2 mouse = uv-uMouse.xy / uResolution.xx;\n",
    "\n",
    "    // Time varying pixel color\n",
    "    vec3 col = vec3(smoothstep(0.9, .95, 1.-length(mouse)));\n",
    "    col -= 1.-vec3(step(dot(step(abs(mouse), vec2(0.8/uResolution.x, 5./uResolution.x)), vec2(0.5)), 0.5));\n",
    "    col -= 1.-vec3(step(dot(step(abs(mouse), vec2(5./uResolution.x, 0.8/uResolution.x)), vec2(0.5)), 0.5));\n",
    "\n",
    "    // Output to screen\n",
    "    return vec4(vec3(col), 1.0);\n",
    "}\n",
    "\"\"\")\n",
    "canvas1.run()"
   ]
  },
  {
   "cell_type": "markdown",
   "metadata": {
    "collapsed": false,
    "jupyter": {
     "outputs_hidden": false
    }
   },
   "source": [
    "Here's a more complex shader taken almost directly from ShaderToy."
   ]
  },
  {
   "cell_type": "code",
   "execution_count": null,
   "metadata": {
    "is_executing": true,
    "tags": []
   },
   "outputs": [],
   "source": [
    "canvas2 = ssv.canvas()\n",
    "canvas2.shader(\"\"\"\n",
    "#pragma SSV shadertoy\n",
    "// Copyright Thomas Mathieson all rights reserved\n",
    "// https://www.shadertoy.com/view/DsffWM\n",
    "const float motionBlur = 0.3;\n",
    "const float aa = 0.6;\n",
    "const vec3 col1 = vec3(13., 45., 140.)/100.;\n",
    "const vec3 col2 = vec3(255., 20., 50.)/255.;\n",
    "const vec3 col3 = vec3(21., 191., 112.)/600.;\n",
    "const vec3 col4 = vec3(0.35, 1., 0.7)*0.65;\n",
    "const float speed = 0.1;\n",
    "\n",
    "float sigmoid(float x)\n",
    "{\n",
    "    return 1.*x/(abs(x)+1.);\n",
    "}\n",
    "vec3 sigmoid(vec3 x)\n",
    "{\n",
    "    return x/(abs(x)+vec3(1.));\n",
    "}\n",
    "vec3 saturate(vec3 x)\n",
    "{\n",
    "    return clamp(x, 0., 1.);\n",
    "}\n",
    "vec3 blend(float x, vec3 c)\n",
    "{\n",
    "    c = pow(c, vec3(x+2.));\n",
    "    return mix(x*c, x*(1.-c), step(x, 0.));\n",
    "}\n",
    "\n",
    "float f(vec2 p, float t, vec4 o, vec4 o1, float s, vec4 scale)\n",
    "{\n",
    "    vec4 i0 = cos(t+o)*vec4(o.xw, o1.xw);\n",
    "    vec4 i1 = sin(t+o1)*vec4(o.xw, o1.xw);\n",
    "    vec4 x0 = i0*s*sin(scale*length(p*o.xy+4.*scale.zw)+o.z+t*o.w);\n",
    "    vec4 x1 = i1*s*sin(scale*length(p*o1.xy)+o1.z+t*o1.w);\n",
    "    return sigmoid(dot(x0+x1, vec4(1.)));\n",
    "}\n",
    "\n",
    "vec3 scene(float t, float emphasis, vec2 uv)\n",
    "{\n",
    "    // \"Beautiful\" randomness, tuned for aesthetics, not performance\n",
    "    vec2 p = uv * 3.;\n",
    "    t += 160.;\n",
    "    t *= speed;\n",
    "    vec4 scale = vec4(sin(t*vec3(0.25, .5, .75)), cos(t*.95))*.25+.5;\n",
    "    float s0 = f(p, t, vec4(6.,9.,2.,1.5), vec4(2.,9.,7.,3.), .25, scale);\n",
    "    float s1 = f(p, t, vec4(2.,6.5,1.5,4.0), vec4(3.,2.5,3.8,1.6), .5, scale);\n",
    "    float s2 = sigmoid(s0/s1)*0.5;\n",
    "    float s3 = f(p, t, vec4(2.,9.,7.,3.), vec4(6.,3.,2.,1.5), .125, scale);\n",
    "    float s6 = f(p*1.5, t, vec4(6.,4.,8.,2.5), vec4(3.2,1.6,9.7,7.9), .25, scale);\n",
    "    float s7 = f(p*1.3, t, vec4(2.,6.5,1.5,4.0), vec4(3.,2.5,3.8,1.6), .5, scale);\n",
    "    float s8 = sigmoid(s6/s7+s0)*0.7;\n",
    "    \n",
    "    vec3 c = vec3(sigmoid((blend(s8,col1)+blend(s2,col2)+blend(s1,col3)+s7*1.)*1.1)*.7+.5);\n",
    "    float grad = sigmoid(pow(length(uv*2.-1.)+s3*.3, 5.))*1.5;\n",
    "    float accent = 1.-sigmoid((pow(2.5, abs(sigmoid(s8+s0+s1))-1.)-.45-(emphasis*0.1))*1000./(1.+30.*grad+20.*emphasis));\n",
    "    c = mix(c, c.r*.3+col4*.8, accent);\n",
    "    return clamp(vec3(c), 0., 1.);\n",
    "}\n",
    "\n",
    "void mainImage(out vec4 fragColor, in vec2 fragCoord)\n",
    "{\n",
    "    // Normalized pixel coordinates (from 0 to 1)\n",
    "    vec2 uv = fragCoord/iResolution.xx;\n",
    "    float aaScale = 1./iResolution.x;\n",
    "\n",
    "    vec2 mouse = uv-iMouse.xy /iResolution.xx;\n",
    "    float emp = sigmoid(1./pow(length(mouse*1.), 1.8)*.02);\n",
    "\n",
    "    // Time varying pixel color\n",
    "    vec3 col = scene(iTime, emp, uv);\n",
    "    //col     += scene(iTime + motionBlur*0.001, emp, uv + aaScale*aa*vec2(0.,1.))\n",
    "    //         + scene(iTime + motionBlur*0.002, emp, uv + aaScale*aa*vec2(1.,0.));\n",
    "    //col /= 3.;\n",
    "\n",
    "    // Output to screen\n",
    "    fragColor = vec4(vec3(col), 1.0);\n",
    "}\n",
    "\"\"\")\n",
    "canvas2.run(stream_quality=100)"
   ]
  },
  {
   "cell_type": "markdown",
   "metadata": {},
   "source": [
    "### Shader Templates\n",
    "\n",
    "*pySSV* makes use of a shader templating system to reduce boilerplate. Many shader templates are provided but you can of course write your own (instructions for which are in the documentation). Shader templates can be just a thin layer glsl boilerplate or can contain significant a amounts of high level functionality as shown in the example below which uses the `sdf` template for signed distance field rendering. This template takes a distance function as an entrypoint and generates the renderer code.\n",
    "\n",
    "Shader templates are specified using the `#pragma SSV <template_name> [template arguments...]` directive. Arguments are defined in the shader template and are specified similar to command line arguments (they are parsed by python's `argparse` module internally)."
   ]
  },
  {
   "cell_type": "code",
   "execution_count": null,
   "metadata": {},
   "outputs": [],
   "source": [
    "import pySSV as ssv\n",
    "canvas3 = ssv.canvas()\n",
    "canvas3.shader(\"\"\"\n",
    "#pragma SSV sdf sdf_main --camera_distance 2. --rotate_speed 1.5 --render_mode SOLID\n",
    "\n",
    "// SDF taken from: https://iquilezles.org/articles/distfunctions/\n",
    "float sdCappedTorus(vec3 p, vec2 sc, float ra, float rb) {\n",
    "  p.x = abs(p.x);\n",
    "  float k = (sc.y*p.x>sc.x*p.y) ? dot(p.xy,sc) : length(p.xy);\n",
    "  return sqrt( dot(p,p) + ra*ra - 2.0*ra*k ) - rb;\n",
    "}\n",
    "\n",
    "float sdf_main(vec3 p) {\n",
    "    float t = 2.*(sin(uTime)*0.5+0.5)+0.2;\n",
    "    return sdCappedTorus(p, vec2(sin(t), cos(t)), 0.5, 0.2);\n",
    "}\n",
    "\"\"\")\n",
    "canvas3.run(stream_quality=100)"
   ]
  },
  {
   "cell_type": "markdown",
   "metadata": {},
   "source": [
    "### Multi-Pass Rendering\n",
    "pySSV provides support for multi-pass rendering and multiple draw calls within a pass. \n",
    "\n",
    "The rendering system renders draw calls belonging to render buffers belonging to canvases (`SSVCanvas` -owns-> `SSVRenderBuffer` -owns-> `SSVVertexBuffer`). When you create an `SSVCanvas`, internally, it creates an `SSVRenderBuffer` which itself creates an `SSVVertexBuffer` to draw into. `canvas.shader()` is actually shorthand for `canvas.main_render_buffer.full_screen_vertex_buffer.shader()` since a shader must belong to an individual draw call (since vertex buffers and draw calls are linked 1-1, we use the terms interchangably here).\n",
    "\n",
    "To start creating your own render buffers and draw calls use the following API:"
   ]
  },
  {
   "cell_type": "code",
   "execution_count": null,
   "metadata": {},
   "outputs": [],
   "source": [
    "import pySSV as ssv\n",
    "import numpy as np\n",
    "\n",
    "canvas4 = ssv.canvas(use_renderdoc=True)\n",
    "# Create a new render buffer on this canvas\n",
    "rb = canvas4.render_buffer(size=(640, 480), name=\"renderBuffer1\")\n",
    "\n",
    "# Now we can render full-screen shaders on both the main render buffer and our new render buffer\n",
    "### Draw diagonal stripes in the background, and composite renderBuffer1 on top\n",
    "canvas4.shader(\"\"\"\n",
    "#pragma SSV pixel mainImage\n",
    "vec4 mainImage(in vec2 fragCoord)\n",
    "{\n",
    "    // Normalized pixel coordinates (from 0 to 1)\n",
    "    vec2 uv = fragCoord/uResolution.xy;\n",
    "    // Some diagonal stripes for the background\n",
    "    vec3 col = vec3(step(fract((fragCoord.x+fragCoord.y+uTime*50.)/50.0), 0.5));\n",
    "    // Now blend the output of renderBuffer1 on top\n",
    "    vec4 rb1 = texture(renderBuffer1, uv);\n",
    "    col = mix(col, rb1.rgb, rb1.a);\n",
    "    // Output to screen\n",
    "    return vec4(vec3(col), 1.0);\n",
    "}\n",
    "\"\"\")\n",
    "### Draw a circle wwith a colour changing gradient in renderBuffer1\n",
    "rb.shader(\"#pragma SSV render_test\")\n",
    "\n",
    "# If we wanted to add another draw call to our new render buffer we would use the vertex_buffer() method\n",
    "vb = rb.vertex_buffer()\n",
    "# Now we can populate this vertex buffer\n",
    "vb.update_vertex_buffer(np.array([\n",
    "    # X   Y     R    G    B\n",
    "    -1.0, -1.0, 1.0, 0.0, 0.0,\n",
    "    1.0, -1.0, 0.0, 1.0, 0.0,\n",
    "    0.0, 1.0, 0.0, 0.0, 1.0],  # This should make a single triangle\n",
    "    dtype='f4',\n",
    "))\n",
    "# And assign a shader to it's draw call\n",
    "### Draw a colourful triangle on top of renderBuffer1\n",
    "vb.shader(\"\"\"\n",
    "#pragma SSV pixel mainImage\n",
    "vec4 mainImage(in vec2 fragCoord)\n",
    "{\n",
    "    // Normalized pixel coordinates (from 0 to 1)\n",
    "    vec2 uv = fragCoord/uResolution.xy;\n",
    "    // Color from the vertex colours\n",
    "    vec3 col = color.rgb;\n",
    "    // Output to screen\n",
    "    return vec4(vec3(col), 1.0);\n",
    "}\n",
    "\"\"\")\n",
    "\n",
    "canvas4.run(stream_quality=100)"
   ]
  },
  {
   "cell_type": "markdown",
   "metadata": {},
   "source": [
    "### Camera\n",
    "When you create a canvas, an `SSVCamera` is also created and attached to it. This automatically recevies input from the canvas and makes a view and projection matrix available in the shader to be used by shaders requiring 3d perspective transformations."
   ]
  },
  {
   "cell_type": "code",
   "execution_count": null,
   "metadata": {},
   "outputs": [],
   "source": [
    "import pySSV as ssv\n",
    "import numpy as np\n",
    "\n",
    "canvas5 = ssv.canvas()\n",
    "canvas5.main_render_buffer.full_screen_vertex_buffer.update_vertex_buffer(np.array([\n",
    "    # X   Y     R    G    B\n",
    "    -1.0, -1.0, 1.0, 0.0, 0.0,\n",
    "    1.0, -1.0, 0.0, 1.0, 0.0,\n",
    "    0.0, 1.0, 0.0, 0.0, 1.0],  # This should make a single triangle\n",
    "    dtype='f4',\n",
    "))\n",
    "canvas5.shader(\n",
    "\"\"\"\n",
    "#pragma SSV vert mainVert\n",
    "VertexOutput mainVert()\n",
    "{\n",
    "    VertexOutput o;\n",
    "    vec4 pos = vec4(in_vert, 1., 1.0);\n",
    "    pos = uViewMat * pos;\n",
    "    pos = uProjMat * pos;\n",
    "    o.position = pos;\n",
    "    o.color = vec4(in_color, 1.);\n",
    "    return o;\n",
    "}\n",
    "\"\"\")\n",
    "# We can configure the camera settings using the `main_camera` field of the canvas\n",
    "canvas5.main_camera.fov = 60\n",
    "canvas5.run(stream_quality=100)"
   ]
  },
  {
   "cell_type": "markdown",
   "metadata": {},
   "source": [
    "### Data Input And Custom Textures\n",
    "There are 3 ways of getting data into a shader for rendering:\n",
    "\n",
    " - As vertex data\n",
    " - As a uniform\n",
    " - As a texture\n",
    "\n",
    "#### Uniforms\n",
    "Uniforms are the simplest to use, and we've already seen them in previous examples. Uniforms are great for small amounts of data which you might want to change frequently such as lighting paramaters, camera transformations, etc... There is a limit to the number of uniforms you can declare and the total amount of memory they consume, this limit depends on your platform but is generally big enough that you don't need to consider it; that is as long as you don't declare large (>1000 elements) arrays as uniforms.\n",
    "\n",
    "To assign values from python to a uniform it must be in a compatible type. Uniforms generally only accept numeric data (ints and floats) as scalars, vectors (up to 4 components), or matrices (up to 4x4 components); any appropriately sized array-like python type can be assigned to a uniform vector. See https://www.khronos.org/opengl/wiki/Data_Type_(GLSL) for more details on supported GLSL types to use with uniforms."
   ]
  },
  {
   "cell_type": "code",
   "execution_count": null,
   "metadata": {},
   "outputs": [],
   "source": [
    "import pySSV as ssv\n",
    "\n",
    "canvas5 = ssv.canvas()\n",
    "canvas5.shader(\"\"\"\n",
    "#pragma SSV pixel mainImage\n",
    "uniform vec3 customColour;\n",
    "\n",
    "vec4 mainImage(in vec2 fragCoord)\n",
    "{\n",
    "    // Normalized pixel coordinates (from 0 to 1)\n",
    "    vec2 uv = fragCoord/uResolution.xy;\n",
    "    // Color from the uniform\n",
    "    // Some diagonal stripes\n",
    "    vec3 col = vec3(step(fract((fragCoord.x+fragCoord.y+uTime*50.)/50.0), 0.5));\n",
    "    // Now colour them with the uniform\n",
    "    col *= customColour;\n",
    "    // Output to screen\n",
    "    return vec4(vec3(col), 1.0);\n",
    "}\n",
    "\"\"\")\n",
    "canvas5.update_uniform(\"customColour\", (1, 0, 1))  # Magenta\n",
    "canvas5.run(stream_quality=100)"
   ]
  },
  {
   "cell_type": "markdown",
   "metadata": {},
   "source": [
    "#### Vertex Data\n",
    "For sparse spatial data, the vertex buffer is a good method of getting data into the shader. \n",
    "\n",
    "Triangle meshes and point clouds are natural choices data which can use the vertex buffer. Vertices can contain any number of attributes (limited by the graphics backend) in addition to position, such as colour, normals, etc... Vertex data is processed in parallel in the vertex shader which is a good place to put any per-vertex transformations. The outputs of the vertex shader are then interpolated automatically into the fragment (pixel) shader.\n",
    "\n",
    "You can define your own vertex data structures and specify how vertex attributes are bound in the shader using the `vertex_attributes` parameter in the `update_vertex_buffer()` method. To take full advantage of custom vertex_attribtues though you'll need to write your own shader template.\n",
    "\n",
    "In the following example we generate a point cloud with the shape `(64, 64, 6)` (which is later flattened into 1D array). The vertex attributes in this example are `vec3 in_vert; vec3 in_color` this maps onto the 6 components in the point cloud. The `point_cloud` shader template used here, exposes an entrypoint in the vertex stage to perform transformations on the points themselves (in our case we perform the perspective transformation for the camera). The template then passes this to a geometry shader, which generates sprites (2-triangle primitives) for each vertex (use the `dbg_preprocess_shader()` described below to see the final shader generated by the template preprocessor to see how this works)."
   ]
  },
  {
   "cell_type": "code",
   "execution_count": null,
   "metadata": {},
   "outputs": [],
   "source": [
    "# Generate some points\n",
    "def generate_points():\n",
    "    width, depth = 64, 64\n",
    "    scale = 3\n",
    "    v_scale = 0.5\n",
    "    f = 0.01\n",
    "    verts = np.zeros((width, depth, 6), dtype='f4')\n",
    "    for z in range(depth):\n",
    "        for x in range(width):\n",
    "            dx = width/2 - x\n",
    "            dz = depth/2 - z\n",
    "            y = np.sin((dx*dx+dz*dz)*f) * v_scale\n",
    "            verts[z, x, :3] = [x/width * scale, y, z/depth * scale]\n",
    "            verts[z, x, 3:6] = [y/v_scale, abs(y/v_scale), np.sin(y/v_scale*10.)*0.5+0.5]\n",
    "            \n",
    "    return verts.flatten()\n"
   ]
  },
  {
   "cell_type": "code",
   "execution_count": null,
   "metadata": {},
   "outputs": [],
   "source": [
    "import pySSV as ssv\n",
    "import numpy as np\n",
    "\n",
    "canvas5 = ssv.canvas(use_renderdoc=True)\n",
    "# Set the contents of default vertex buffer on the main pass (normally used for full-screen shaders, but in this case hijacked for this example)\n",
    "canvas5.main_render_buffer.full_screen_vertex_buffer.update_vertex_buffer(generate_points())\n",
    "canvas5.main_camera.target_pos = np.array((1.5, 0, 1.5))\n",
    "canvas5.shader(\"\"\"\n",
    "#pragma SSV point_cloud mainPoint\n",
    "VertexOutput mainPoint()\n",
    "{\n",
    "    VertexOutput o;\n",
    "    vec4 pos = vec4(in_vert, 1.0);\n",
    "    pos = uViewMat * pos;\n",
    "    pos = uProjMat * pos;\n",
    "    o.position = pos;\n",
    "    o.color = vec4(in_color, 1.);\n",
    "    o.size = 30.0/uResolution.x;\n",
    "    return o;\n",
    "}\n",
    "\"\"\")\n",
    "canvas5.run(stream_quality=100)"
   ]
  },
  {
   "cell_type": "markdown",
   "metadata": {},
   "source": [
    "#### Textures\n",
    "To get large amounts of data into a shader textures are ideal.\n",
    "\n",
    "Most GPUs support 2D and 3D textures in a variety of formats (usually from 8, 16, and 32 bits per component, as floats of uints, up to 4 components per pixel (RGBA)); *pySSV* automatically attempts to determine the correct texture dimensions and format from a NumPy array. Different GPUs have different limitations as to the maximum dimensions (width, height, and depth) for textures which cannot be exceeded, for 2D textures 16384x16384 is usually limit, for 3D textures this is often smaller. That being said a 16384x16384 texture with 4x32 bit components per pixel represents 4 GB of memory.\n",
    "\n",
    "Textures have a few useful features which can be exploited pretty much for free:\n",
    "\n",
    " - Texture interpolation: textures can be sampled using nearest neighbour interpolation or bilinear / trilinear (for mipmaps or 3d textures), interpolation.\n",
    " - Texture repetition: when sampling textures outside of the usual 0-1 range, they can be set to either repeat or clamp to edge values.\n",
    " - Texture mipmaps: (only recommended for textures with power-of-2 dimensions) the GPU can efficiently generate image pyramids for textures which can be sampled with linear interpolation between levels in the shader. These can be used to approximate blurring operations, compute averages, or to prevent texture aliasing."
   ]
  },
  {
   "cell_type": "code",
   "execution_count": null,
   "metadata": {},
   "outputs": [],
   "source": [
    "import pySSV as ssv\n",
    "import numpy as np\n",
    "\n",
    "canvas5 = ssv.canvas(use_renderdoc=True)\n",
    "# Here we generate a simple 3x3 single component texture. By default, pySSV will attempt to treat this as a 3x1 \n",
    "# texture with 3 components (since the height is less than the maximum number of components in a texture (4)), as\n",
    "# such we use the `force_2d` parameter to tell pySSV to treat the 2nd dimension of the array as height instead of \n",
    "# components.\n",
    "texture = canvas5.texture(np.array([\n",
    "    [0., 0.1, 0.2],\n",
    "    [0.3, 0.4, 0.5],\n",
    "    [0.6, 0.7, 0.8]\n",
    "], dtype=np.float16), \"uTexture1\", force_2d=True)\n",
    "# texture.linear_filtering = False\n",
    "texture.repeat_x, texture.repeat_y = False, False\n",
    "texture.linear_filtering = False\n",
    "canvas5.shader(\"\"\"\n",
    "#pragma SSV pixel mainImage\n",
    "// Provided that the texture is declared on the canvas *before* the shader is, then it's uniform will be \n",
    "// automatically declared in the shader by the preprocessor.\n",
    "//uniform sampler2D uTexture1;\n",
    "vec4 mainImage(in vec2 fragCoord)\n",
    "{\n",
    "    // Normalized pixel coordinates (from 0 t 1)\n",
    "    vec2 uv = fragCoord/uResolution.xy;\n",
    "    // Color from the uniform\n",
    "    // Some diagonal stripes\n",
    "    vec3 col = vec3(step(fract((fragCoord.x+fragCoord.y+uTime*50.)/50.0), 0.5));\n",
    "    // Now colour them with the texture\n",
    "    col *= vec3(texture(uTexture1, uv).r);\n",
    "    // Output to screen\n",
    "    return vec4(vec3(col), 1.0);\n",
    "}\n",
    "\"\"\")\n",
    "canvas5.run()"
   ]
  },
  {
   "cell_type": "markdown",
   "metadata": {},
   "source": [
    "-------------------"
   ]
  },
  {
   "cell_type": "code",
   "execution_count": null,
   "metadata": {},
   "outputs": [],
   "source": [
    "if \"canvas\" in globals():\n",
    "    canvas.stop()\n",
    "if \"canvas1\" in globals():\n",
    "    canvas1.stop()\n",
    "if \"canvas2\" in globals():\n",
    "    canvas2.stop()\n",
    "if \"canvas3\" in globals():\n",
    "    canvas3.stop()\n",
    "if \"canvas4\" in globals():\n",
    "    canvas4.stop()\n",
    "if \"canvas5\" in globals():\n",
    "    canvas5.stop()\n",
    "if \"canvas6\" in globals():\n",
    "    canvas6.stop()"
   ]
  },
  {
   "cell_type": "markdown",
   "metadata": {},
   "source": [
    "### Debugging Shaders\n",
    "Shaders can get quite complex so pySSV provides a few tools to simplify debugging your shaders.\n",
    "\n",
    "#### Preprocessor Dump\n",
    "It can be helpful to view the GLSL generated by the pre processor to understand why things are going wrong:"
   ]
  },
  {
   "cell_type": "code",
   "execution_count": null,
   "metadata": {},
   "outputs": [],
   "source": [
    "import pySSV as ssv\n",
    "canvas1 = ssv.canvas()\n",
    "shader = canvas1.dbg_preprocess_shader(\"\"\"\n",
    "#pragma SSV pixel mainImage\n",
    "vec4 mainImage( in vec2 fragCoord )\n",
    "{\n",
    "    // Normalized pixel coordinates (from 0 to 1)\n",
    "    vec2 uv = fragCoord/uResolution.xx;\n",
    "    float aaScale = 1./uResolution.x;\n",
    "\n",
    "    vec2 mouse = uv-uMouse.xy / uResolution.xx;\n",
    "\n",
    "    // Time varying pixel color\n",
    "    vec3 col = vec3(smoothstep(0.9, .95, 1.-length(mouse)));\n",
    "    col -= 1.-vec3(step(dot(step(abs(mouse), vec2(0.8/uResolution.x, 5./uResolution.x)), vec2(0.5)), 0.5));\n",
    "    col -= 1.-vec3(step(dot(step(abs(mouse), vec2(5./uResolution.x, 0.8/uResolution.x)), vec2(0.5)), 0.5));\n",
    "\n",
    "    // Output to screen\n",
    "    return vec4(vec3(col), 1.0);\n",
    "}\n",
    "\"\"\")\n",
    "print(shader)"
   ]
  },
  {
   "cell_type": "markdown",
   "metadata": {},
   "source": [
    "#### List Shader Templates\n",
    "You can also get a list of all the installed shader templates."
   ]
  },
  {
   "cell_type": "code",
   "execution_count": null,
   "metadata": {},
   "outputs": [],
   "source": [
    "print(canvas1.dbg_query_shader_templates(additional_template_directory=None))"
   ]
  },
  {
   "cell_type": "markdown",
   "metadata": {},
   "source": [
    "#### Query Shader Template Arguments\n",
    "And you can query a shader template for it's arguments."
   ]
  },
  {
   "cell_type": "code",
   "execution_count": null,
   "metadata": {},
   "outputs": [],
   "source": [
    "print(canvas1.dbg_query_shader_template(\"sdf\"))"
   ]
  },
  {
   "cell_type": "markdown",
   "metadata": {},
   "source": [
    "#### OpenGL Context\n",
    "If you're trying to track down a driver bug or platform specific oddity, having the graphics adapter information can be helpful"
   ]
  },
  {
   "cell_type": "code",
   "execution_count": null,
   "metadata": {},
   "outputs": [],
   "source": [
    "canvas1.dbg_log_context(full=True)"
   ]
  },
  {
   "cell_type": "markdown",
   "metadata": {},
   "source": [
    "#### Frame Times\n",
    "*pySSV* also provides rudimentry frame time logging to identify bottlenecks."
   ]
  },
  {
   "cell_type": "code",
   "execution_count": null,
   "metadata": {},
   "outputs": [],
   "source": [
    "canvas1.dbg_log_frame_times(enabled=True)\n",
    "# Then you just need to run the canvas\n",
    "# canvas1.dbg_render_test()\n",
    "# canvas1.run()"
   ]
  },
  {
   "cell_type": "code",
   "execution_count": null,
   "metadata": {},
   "outputs": [],
   "source": [
    "canvas1.stop(force=True)"
   ]
  },
  {
   "cell_type": "markdown",
   "metadata": {},
   "source": [
    "#### Debugging Shaders With Renderdoc\n",
    "[Renderdoc](https://renderdoc.org/) is a powerful open-source graphics debugger. To use Renderdoc with *pySSV*, install the python bindings for the Renderdoc in-app API (https://github.com/space928/pyRenderdocApp/):"
   ]
  },
  {
   "cell_type": "code",
   "execution_count": null,
   "metadata": {},
   "outputs": [],
   "source": [
    "%pip install pyRenderdocApp"
   ]
  },
  {
   "cell_type": "markdown",
   "metadata": {},
   "source": [
    "Then simply create a new `SSVCanvas` with `use_renderdoc_api` set to `True` and the Renderdoc API will be loaded automatically. To capture a frame simply press the Renderdoc logo button in the widget."
   ]
  },
  {
   "cell_type": "code",
   "execution_count": null,
   "metadata": {},
   "outputs": [],
   "source": [
    "try:\n",
    "    import pySSV as ssv\n",
    "    import pyRenderdocApp\n",
    "    \n",
    "    canvas = ssv.canvas(use_renderdoc=True)\n",
    "    canvas.shader(\"#pragma SSV render_test\")\n",
    "    canvas.run()\n",
    "except ImportError:\n",
    "    print(\"Couldn't import pyRenderdocApp!\")"
   ]
  },
  {
   "cell_type": "code",
   "execution_count": null,
   "metadata": {},
   "outputs": [],
   "source": [
    "canvas.stop(force=True)"
   ]
  },
  {
   "cell_type": "code",
   "execution_count": null,
   "metadata": {},
   "outputs": [],
   "source": []
  }
 ],
 "metadata": {
  "kernelspec": {
   "display_name": "Python 3 (ipykernel)",
   "language": "python",
   "name": "python3"
  },
  "language_info": {
   "codemirror_mode": {
    "name": "ipython",
    "version": 3
   },
   "file_extension": ".py",
   "mimetype": "text/x-python",
   "name": "python",
   "nbconvert_exporter": "python",
   "pygments_lexer": "ipython3",
   "version": "3.8.18"
  }
 },
 "nbformat": 4,
 "nbformat_minor": 4
}

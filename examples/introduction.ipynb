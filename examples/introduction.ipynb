{
 "cells": [
  {
   "cell_type": "markdown",
   "metadata": {},
   "source": [
    "# Introduction"
   ]
  },
  {
   "cell_type": "code",
   "execution_count": 1,
   "metadata": {
    "tags": []
   },
   "outputs": [],
   "source": [
    "import pySSV as ssv\n",
    "import logging\n",
    "ssv.ssv_logging.set_severity(logging.INFO)"
   ]
  },
  {
   "cell_type": "code",
   "execution_count": 2,
   "metadata": {
    "tags": []
   },
   "outputs": [],
   "source": [
    "canvas = ssv.canvas()\n",
    "canvas.dbg_log_context()\n",
    "canvas.dbg_render_test()"
   ]
  },
  {
   "cell_type": "code",
   "execution_count": 4,
   "metadata": {},
   "outputs": [
    {
     "data": {
      "application/vnd.jupyter.widget-view+json": {
       "model_id": "f0043c8a2b2f475780178c4c579e95eb",
       "version_major": 2,
       "version_minor": 0
      },
      "text/plain": [
       "SSVRenderWidget()"
      ]
     },
     "metadata": {},
     "output_type": "display_data"
    }
   ],
   "source": [
    "canvas.run(stream_mode=\"png\")"
   ]
  },
  {
   "cell_type": "code",
   "execution_count": 4,
   "metadata": {
    "tags": []
   },
   "outputs": [],
   "source": [
    "canvas.stop()"
   ]
  },
  {
   "cell_type": "code",
   "execution_count": 6,
   "metadata": {
    "tags": []
   },
   "outputs": [
    {
     "data": {
      "application/vnd.jupyter.widget-view+json": {
       "model_id": "1f259d1f2a0044628d641baddaca5634",
       "version_major": 2,
       "version_minor": 0
      },
      "text/plain": [
       "SSVRenderWidget(streaming_mode='jpg')"
      ]
     },
     "metadata": {},
     "output_type": "display_data"
    }
   ],
   "source": [
    "canvas1 = ssv.canvas()\n",
    "canvas1.dbg_shader(\"\"\"\n",
    "vec4 mainImage( in vec2 fragCoord )\n",
    "{\n",
    "    // Normalized pixel coordinates (from 0 to 1)\n",
    "    vec2 uv = fragCoord/iResolution.xx;\n",
    "    float aaScale = 1./iResolution.x;\n",
    "\n",
    "    vec2 mouse = uv-iMouse.xy / iResolution.xx;\n",
    "\n",
    "    // Time varying pixel color\n",
    "    vec3 col = vec3(smoothstep(0.9, .95, 1.-length(mouse)));\n",
    "    col -= 1.-vec3(step(dot(step(abs(mouse), vec2(0.8/iResolution.x, 5./iResolution.x)), vec2(0.5)), 0.5));\n",
    "    col -= 1.-vec3(step(dot(step(abs(mouse), vec2(5./iResolution.x, 0.8/iResolution.x)), vec2(0.5)), 0.5));\n",
    "\n",
    "    // Output to screen\n",
    "    return vec4(vec3(col), 1.0);\n",
    "}\n",
    "\"\"\")\n",
    "canvas1.run()"
   ]
  },
  {
   "cell_type": "code",
   "execution_count": null,
   "metadata": {
    "tags": []
   },
   "outputs": [],
   "source": [
    "canvas2 = ssv.canvas()\n",
    "canvas2.dbg_shader(\"\"\"\n",
    "// Copyright Thomas Mathieson all rights reserved\n",
    "// https://www.shadertoy.com/view/DsffWM\n",
    "const float motionBlur = 0.3;\n",
    "const float aa = 0.6;\n",
    "const vec3 col1 = vec3(13., 45., 140.)/100.;\n",
    "const vec3 col2 = vec3(255., 20., 50.)/255.;\n",
    "const vec3 col3 = vec3(21., 191., 112.)/600.;\n",
    "const vec3 col4 = vec3(0.35, 1., 0.7)*0.65;\n",
    "const float speed = 0.1;\n",
    "\n",
    "float sigmoid(float x)\n",
    "{\n",
    "    return 1.*x/(abs(x)+1.);\n",
    "}\n",
    "vec3 sigmoid(vec3 x)\n",
    "{\n",
    "    return x/(abs(x)+vec3(1.));\n",
    "}\n",
    "vec3 saturate(vec3 x)\n",
    "{\n",
    "    return clamp(x, 0., 1.);\n",
    "}\n",
    "vec3 blend(float x, vec3 c)\n",
    "{\n",
    "    c = pow(c, vec3(x+2.));\n",
    "    return mix(x*c, x*(1.-c), step(x, 0.));\n",
    "}\n",
    "\n",
    "float f(vec2 p, float t, vec4 o, vec4 o1, float s, vec4 scale)\n",
    "{\n",
    "    vec4 i0 = cos(t+o)*vec4(o.xw, o1.xw);\n",
    "    vec4 i1 = sin(t+o1)*vec4(o.xw, o1.xw);\n",
    "    vec4 x0 = i0*s*sin(scale*length(p*o.xy+4.*scale.zw)+o.z+t*o.w);\n",
    "    vec4 x1 = i1*s*sin(scale*length(p*o1.xy)+o1.z+t*o1.w);\n",
    "    return sigmoid(dot(x0+x1, vec4(1.)));\n",
    "}\n",
    "\n",
    "vec3 scene(float t, float emphasis, vec2 uv)\n",
    "{\n",
    "    // \"Beautiful\" randomness, tuned for aesthetics, not performance\n",
    "    vec2 p = uv * 3.;\n",
    "    t += 160.;\n",
    "    t *= speed;\n",
    "    vec4 scale = vec4(sin(t*vec3(0.25, .5, .75)), cos(t*.95))*.25+.5;\n",
    "    float s0 = f(p, t, vec4(6.,9.,2.,1.5), vec4(2.,9.,7.,3.), .25, scale);\n",
    "    float s1 = f(p, t, vec4(2.,6.5,1.5,4.0), vec4(3.,2.5,3.8,1.6), .5, scale);\n",
    "    float s2 = sigmoid(s0/s1)*0.5;\n",
    "    float s3 = f(p, t, vec4(2.,9.,7.,3.), vec4(6.,3.,2.,1.5), .125, scale);\n",
    "    float s6 = f(p*1.5, t, vec4(6.,4.,8.,2.5), vec4(3.2,1.6,9.7,7.9), .25, scale);\n",
    "    float s7 = f(p*1.3, t, vec4(2.,6.5,1.5,4.0), vec4(3.,2.5,3.8,1.6), .5, scale);\n",
    "    float s8 = sigmoid(s6/s7+s0)*0.7;\n",
    "    \n",
    "    vec3 c = vec3(sigmoid((blend(s8,col1)+blend(s2,col2)+blend(s1,col3)+s7*1.)*1.1)*.7+.5);\n",
    "    float grad = sigmoid(pow(length(uv*2.-1.)+s3*.3, 5.))*1.5;\n",
    "    float accent = 1.-sigmoid((pow(2.5, abs(sigmoid(s8+s0+s1))-1.)-.45-(emphasis*0.1))*1000./(1.+30.*grad+20.*emphasis));\n",
    "    c = mix(c, c.r*.3+col4*.8, accent);\n",
    "    return clamp(vec3(c), 0., 1.);\n",
    "}\n",
    "\n",
    "vec4 mainImage( in vec2 fragCoord )\n",
    "{\n",
    "    // Normalized pixel coordinates (from 0 to 1)\n",
    "    vec2 uv = fragCoord/iResolution.xx;\n",
    "    float aaScale = 1./iResolution.x;\n",
    "\n",
    "    vec2 mouse = uv-iMouse.xy /iResolution.xx;\n",
    "    float emp = sigmoid(1./pow(length(mouse*1.), 1.8)*.02);\n",
    "\n",
    "    // Time varying pixel color\n",
    "    vec3 col = scene(iTime, emp, uv);\n",
    "    //col     += scene(iTime + motionBlur*0.001, emp, uv + aaScale*aa*vec2(0.,1.))\n",
    "    //         + scene(iTime + motionBlur*0.002, emp, uv + aaScale*aa*vec2(1.,0.));\n",
    "    //col /= 3.;\n",
    "\n",
    "    // Output to screen\n",
    "    return vec4(vec3(col), 1.0);\n",
    "}\n",
    "\"\"\")\n",
    "canvas2.run()"
   ]
  },
  {
   "cell_type": "code",
   "execution_count": null,
   "metadata": {},
   "outputs": [],
   "source": [
    "canvas.stop()\n",
    "canvas1.stop()\n",
    "canvas2.stop()"
   ]
  },
  {
   "cell_type": "code",
   "execution_count": null,
   "metadata": {},
   "outputs": [],
   "source": []
  }
 ],
 "metadata": {
  "kernelspec": {
   "display_name": "Python 3 (ipykernel)",
   "language": "python",
   "name": "python3"
  },
  "language_info": {
   "codemirror_mode": {
    "name": "ipython",
    "version": 3
   },
   "file_extension": ".py",
   "mimetype": "text/x-python",
   "name": "python",
   "nbconvert_exporter": "python",
   "pygments_lexer": "ipython3",
   "version": "3.11.6"
  }
 },
 "nbformat": 4,
 "nbformat_minor": 4
}

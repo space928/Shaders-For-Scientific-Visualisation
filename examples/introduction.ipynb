{
 "cells": [
  {
   "cell_type": "markdown",
   "metadata": {},
   "source": [
    "# Introduction\n",
    "This notebook demonstrates a few example uses for pySSV.\n",
    "\n",
    "In these first few examples we demonstrate some basic fragment shaders."
   ]
  },
  {
   "cell_type": "code",
   "execution_count": 1,
   "metadata": {
    "collapsed": false,
    "is_executing": true,
    "jupyter": {
     "outputs_hidden": false
    }
   },
   "outputs": [],
   "source": [
    "# Google colab support\n",
    "try:\n",
    "    # Try enabling custom widgets, this will fail silently if we're not in Google Colab\n",
    "    from google.colab import output\n",
    "    output.enable_custom_widget_manager()\n",
    "    # Install pySSV for this session\n",
    "    %pip install pySSV\n",
    "except:\n",
    "    pass"
   ]
  },
  {
   "cell_type": "code",
   "execution_count": 2,
   "metadata": {
    "ExecuteTime": {
     "end_time": "2023-12-02T10:19:29.482250800Z",
     "start_time": "2023-12-02T10:19:29.359894500Z"
    },
    "tags": []
   },
   "outputs": [],
   "source": [
    "import pySSV as ssv\n",
    "import logging\n",
    "ssv.ssv_logging.set_severity(logging.INFO)"
   ]
  },
  {
   "cell_type": "code",
   "execution_count": 3,
   "metadata": {
    "tags": []
   },
   "outputs": [],
   "source": [
    "# Create a new SSVCanvas, the canvas is responsible for managing the OpenGL context, the render widget, and the state of the renderer.\n",
    "canvas = ssv.canvas()\n",
    "# Check what graphics adapter we're using\n",
    "canvas.dbg_log_context()\n",
    "# Set up a very basic shader program to check it's working\n",
    "canvas.shader(\"\"\"\n",
    "#pragma SSV shadertoy mainImage\n",
    "vec4 mainImage(in vec2 fragCoord)\n",
    "{\n",
    "    // Normalized pixel coordinates (from 0 to 1)\n",
    "    vec2 uv = fragCoord/iResolution.yy;\n",
    "    // Colour changing over time\n",
    "    vec3 col = sin(uv.xyx + iTime * vec3(3, 4, 5)) * 0.5 + 0.5;\n",
    "    float alpha = smoothstep(0.1, 0.1+2./iResolution.y, 1.-length(uv*2.-1.));\n",
    "    // Output to screen\n",
    "    return vec4(vec3(col), alpha);\n",
    "}\n",
    "\"\"\")"
   ]
  },
  {
   "cell_type": "code",
   "execution_count": 4,
   "metadata": {},
   "outputs": [
    {
     "data": {
      "application/vnd.jupyter.widget-view+json": {
       "model_id": "7b37cf7939a24a0cb02a7014dc2d9f07",
       "version_major": 2,
       "version_minor": 0
      },
      "text/plain": [
       "SSVRenderWidget()"
      ]
     },
     "metadata": {},
     "output_type": "display_data"
    }
   ],
   "source": [
    "# run() starts the render loop, it will continuously render frames until stop() is called or the widget is destroyed.\n",
    "# We set the stream mode to png here as it supports transparency. In general though, jpg (the default) is much faster.\n",
    "canvas.run(stream_mode=\"png\")"
   ]
  },
  {
   "cell_type": "code",
   "execution_count": 17,
   "metadata": {
    "tags": []
   },
   "outputs": [],
   "source": [
    "canvas.stop()"
   ]
  },
  {
   "cell_type": "markdown",
   "metadata": {
    "collapsed": false,
    "jupyter": {
     "outputs_hidden": false
    }
   },
   "source": [
    "### Mouse input\n",
    "Here's a basic example of a shader that makes use of mouse position. With the `dbg_shader()` method, glsl code is generated around your shader to support ShaderToy-like shaders. In this case the canvas resolution is passed is in as `iResolution` and the mouse position as `iMouse`."
   ]
  },
  {
   "cell_type": "code",
   "execution_count": 5,
   "metadata": {
    "tags": []
   },
   "outputs": [
    {
     "data": {
      "application/vnd.jupyter.widget-view+json": {
       "model_id": "040f2526f0224fdb9c80c9c610611467",
       "version_major": 2,
       "version_minor": 0
      },
      "text/plain": [
       "SSVRenderWidget(streaming_mode='jpg')"
      ]
     },
     "metadata": {},
     "output_type": "display_data"
    }
   ],
   "source": [
    "import pySSV as ssv\n",
    "canvas1 = ssv.canvas()\n",
    "canvas1.shader(\"\"\"\n",
    "#pragma SSV shadertoy mainImage\n",
    "vec4 mainImage( in vec2 fragCoord )\n",
    "{\n",
    "    // Normalized pixel coordinates (from 0 to 1)\n",
    "    vec2 uv = fragCoord/iResolution.xx;\n",
    "    float aaScale = 1./iResolution.x;\n",
    "\n",
    "    vec2 mouse = uv-iMouse.xy / iResolution.xx;\n",
    "\n",
    "    // Time varying pixel color\n",
    "    vec3 col = vec3(smoothstep(0.9, .95, 1.-length(mouse)));\n",
    "    col -= 1.-vec3(step(dot(step(abs(mouse), vec2(0.8/iResolution.x, 5./iResolution.x)), vec2(0.5)), 0.5));\n",
    "    col -= 1.-vec3(step(dot(step(abs(mouse), vec2(5./iResolution.x, 0.8/iResolution.x)), vec2(0.5)), 0.5));\n",
    "\n",
    "    // Output to screen\n",
    "    return vec4(vec3(col), 1.0);\n",
    "}\n",
    "\"\"\")\n",
    "canvas1.run()"
   ]
  },
  {
   "cell_type": "markdown",
   "metadata": {
    "collapsed": false,
    "jupyter": {
     "outputs_hidden": false
    }
   },
   "source": [
    "Here's a more complex shader taken almost directly from ShaderToy."
   ]
  },
  {
   "cell_type": "code",
   "execution_count": 6,
   "metadata": {
    "is_executing": true,
    "tags": []
   },
   "outputs": [
    {
     "data": {
      "application/vnd.jupyter.widget-view+json": {
       "model_id": "d3027a90170745f9bdb645d800961ff9",
       "version_major": 2,
       "version_minor": 0
      },
      "text/plain": [
       "SSVRenderWidget(streaming_mode='jpg')"
      ]
     },
     "metadata": {},
     "output_type": "display_data"
    }
   ],
   "source": [
    "canvas2 = ssv.canvas()\n",
    "canvas2.shader(\"\"\"\n",
    "#pragma SSV shadertoy mainImage\n",
    "// Copyright Thomas Mathieson all rights reserved\n",
    "// https://www.shadertoy.com/view/DsffWM\n",
    "const float motionBlur = 0.3;\n",
    "const float aa = 0.6;\n",
    "const vec3 col1 = vec3(13., 45., 140.)/100.;\n",
    "const vec3 col2 = vec3(255., 20., 50.)/255.;\n",
    "const vec3 col3 = vec3(21., 191., 112.)/600.;\n",
    "const vec3 col4 = vec3(0.35, 1., 0.7)*0.65;\n",
    "const float speed = 0.1;\n",
    "\n",
    "float sigmoid(float x)\n",
    "{\n",
    "    return 1.*x/(abs(x)+1.);\n",
    "}\n",
    "vec3 sigmoid(vec3 x)\n",
    "{\n",
    "    return x/(abs(x)+vec3(1.));\n",
    "}\n",
    "vec3 saturate(vec3 x)\n",
    "{\n",
    "    return clamp(x, 0., 1.);\n",
    "}\n",
    "vec3 blend(float x, vec3 c)\n",
    "{\n",
    "    c = pow(c, vec3(x+2.));\n",
    "    return mix(x*c, x*(1.-c), step(x, 0.));\n",
    "}\n",
    "\n",
    "float f(vec2 p, float t, vec4 o, vec4 o1, float s, vec4 scale)\n",
    "{\n",
    "    vec4 i0 = cos(t+o)*vec4(o.xw, o1.xw);\n",
    "    vec4 i1 = sin(t+o1)*vec4(o.xw, o1.xw);\n",
    "    vec4 x0 = i0*s*sin(scale*length(p*o.xy+4.*scale.zw)+o.z+t*o.w);\n",
    "    vec4 x1 = i1*s*sin(scale*length(p*o1.xy)+o1.z+t*o1.w);\n",
    "    return sigmoid(dot(x0+x1, vec4(1.)));\n",
    "}\n",
    "\n",
    "vec3 scene(float t, float emphasis, vec2 uv)\n",
    "{\n",
    "    // \"Beautiful\" randomness, tuned for aesthetics, not performance\n",
    "    vec2 p = uv * 3.;\n",
    "    t += 160.;\n",
    "    t *= speed;\n",
    "    vec4 scale = vec4(sin(t*vec3(0.25, .5, .75)), cos(t*.95))*.25+.5;\n",
    "    float s0 = f(p, t, vec4(6.,9.,2.,1.5), vec4(2.,9.,7.,3.), .25, scale);\n",
    "    float s1 = f(p, t, vec4(2.,6.5,1.5,4.0), vec4(3.,2.5,3.8,1.6), .5, scale);\n",
    "    float s2 = sigmoid(s0/s1)*0.5;\n",
    "    float s3 = f(p, t, vec4(2.,9.,7.,3.), vec4(6.,3.,2.,1.5), .125, scale);\n",
    "    float s6 = f(p*1.5, t, vec4(6.,4.,8.,2.5), vec4(3.2,1.6,9.7,7.9), .25, scale);\n",
    "    float s7 = f(p*1.3, t, vec4(2.,6.5,1.5,4.0), vec4(3.,2.5,3.8,1.6), .5, scale);\n",
    "    float s8 = sigmoid(s6/s7+s0)*0.7;\n",
    "    \n",
    "    vec3 c = vec3(sigmoid((blend(s8,col1)+blend(s2,col2)+blend(s1,col3)+s7*1.)*1.1)*.7+.5);\n",
    "    float grad = sigmoid(pow(length(uv*2.-1.)+s3*.3, 5.))*1.5;\n",
    "    float accent = 1.-sigmoid((pow(2.5, abs(sigmoid(s8+s0+s1))-1.)-.45-(emphasis*0.1))*1000./(1.+30.*grad+20.*emphasis));\n",
    "    c = mix(c, c.r*.3+col4*.8, accent);\n",
    "    return clamp(vec3(c), 0., 1.);\n",
    "}\n",
    "\n",
    "vec4 mainImage( in vec2 fragCoord )\n",
    "{\n",
    "    // Normalized pixel coordinates (from 0 to 1)\n",
    "    vec2 uv = fragCoord/iResolution.xx;\n",
    "    float aaScale = 1./iResolution.x;\n",
    "\n",
    "    vec2 mouse = uv-iMouse.xy /iResolution.xx;\n",
    "    float emp = sigmoid(1./pow(length(mouse*1.), 1.8)*.02);\n",
    "\n",
    "    // Time varying pixel color\n",
    "    vec3 col = scene(iTime, emp, uv);\n",
    "    //col     += scene(iTime + motionBlur*0.001, emp, uv + aaScale*aa*vec2(0.,1.))\n",
    "    //         + scene(iTime + motionBlur*0.002, emp, uv + aaScale*aa*vec2(1.,0.));\n",
    "    //col /= 3.;\n",
    "\n",
    "    // Output to screen\n",
    "    return vec4(vec3(col), 1.0);\n",
    "}\n",
    "\"\"\")\n",
    "canvas2.run(stream_quality=100)"
   ]
  },
  {
   "cell_type": "markdown",
   "metadata": {},
   "source": [
    "Here's an example using the signed distance field template:"
   ]
  },
  {
   "cell_type": "code",
   "execution_count": 11,
   "metadata": {},
   "outputs": [
    {
     "data": {
      "application/vnd.jupyter.widget-view+json": {
       "model_id": "4bb5c948533e49f5bb117284e9a8326e",
       "version_major": 2,
       "version_minor": 0
      },
      "text/plain": [
       "SSVRenderWidget(streaming_mode='jpg')"
      ]
     },
     "metadata": {},
     "output_type": "display_data"
    }
   ],
   "source": [
    "import pySSV as ssv\n",
    "canvas3 = ssv.canvas()\n",
    "canvas3.shader(\"\"\"\n",
    "#pragma SSV sdf sdf_main --camera_distance 2. --rotate_speed 1.5 --render_mode SOLID\n",
    "\n",
    "// SDF taken from: https://iquilezles.org/articles/distfunctions/\n",
    "float sdCappedTorus(vec3 p, vec2 sc, float ra, float rb) {\n",
    "  p.x = abs(p.x);\n",
    "  float k = (sc.y*p.x>sc.x*p.y) ? dot(p.xy,sc) : length(p.xy);\n",
    "  return sqrt( dot(p,p) + ra*ra - 2.0*ra*k ) - rb;\n",
    "}\n",
    "\n",
    "float sdf_main(vec3 p) {\n",
    "    float t = 2.*(sin(uTime)*0.5+0.5)+0.2;\n",
    "    return sdCappedTorus(p, vec2(sin(t), cos(t)), 0.5, 0.2);\n",
    "}\n",
    "\"\"\")\n",
    "canvas3.run(stream_quality=100)"
   ]
  },
  {
   "cell_type": "markdown",
   "metadata": {},
   "source": [
    "### Multi-Pass Rendering\n",
    "pySSV provides support for multi-pass rendering and multiple draw calls within a pass. \n",
    "\n",
    "The rendering system renders draw calls belonging to render buffers belonging to canvases (`SSVCanvas` -owns-> `SSVRenderBuffer` -owns-> `SSVVertexBuffer`). When you create an `SSVCanvas`, internally, it creates an `SSVRenderBuffer` which itself creates an `SSVVertexBuffer` to draw into. `canvas.shader()` is actually shorthand for `canvas.main_render_buffer.full_screen_vertex_buffer.shader()` since a shader must belong to an individual draw call (since vertex buffers and draw calls are linked 1-1, we use the terms interchangably here).\n",
    "\n",
    "To start creating your own render buffers and draw calls use the following API:"
   ]
  },
  {
   "cell_type": "code",
   "execution_count": 1,
   "metadata": {},
   "outputs": [
    {
     "data": {
      "application/vnd.jupyter.widget-view+json": {
       "model_id": "225d73ece679429abe696111ab6e9b39",
       "version_major": 2,
       "version_minor": 0
      },
      "text/plain": [
       "SSVRenderWidget(enable_renderdoc=True, streaming_mode='jpg')"
      ]
     },
     "metadata": {},
     "output_type": "display_data"
    }
   ],
   "source": [
    "import pySSV as ssv\n",
    "import numpy as np\n",
    "\n",
    "canvas4 = ssv.canvas()\n",
    "# Create a new render buffer on this canvas\n",
    "rb = canvas4.render_buffer(size=(640, 480), name=\"renderBuffer1\")\n",
    "\n",
    "# Now we can render full-screen shaders on both the main render buffer and our new render buffer\n",
    "### Draw diagonal stripes in the background, and composite renderBuffer1 on top\n",
    "canvas4.shader(\"\"\"\n",
    "#pragma SSV shadertoy mainImage\n",
    "vec4 mainImage(in vec2 fragCoord)\n",
    "{\n",
    "    // Normalized pixel coordinates (from 0 to 1)\n",
    "    vec2 uv = fragCoord/iResolution.xy;\n",
    "    // Some diagonal stripes for the background\n",
    "    vec3 col = vec3(step(fract((fragCoord.x+fragCoord.y+iTime*50.)/50.0), 0.5));\n",
    "    // Now blend the output of renderBuffer1 on top\n",
    "    vec4 rb1 = texture(renderBuffer1, uv);\n",
    "    col = mix(col, rb1.rgb, rb1.a);\n",
    "    // Output to screen\n",
    "    return vec4(vec3(col), 1.0);\n",
    "}\n",
    "\"\"\")\n",
    "### Draw a circle wwith a colour changing gradient in renderBuffer1\n",
    "rb.shader(\"#pragma SSV render_test\")\n",
    "\n",
    "# If we wanted to add another draw call to our new render buffer we would use the vertex_buffer() method\n",
    "vb = rb.vertex_buffer()\n",
    "# Now we can populate this vertex buffer\n",
    "vb.update_vertex_buffer(np.array([\n",
    "    # X   Y     R    G    B\n",
    "    -1.0, -1.0, 1.0, 0.0, 0.0,\n",
    "    1.0, -1.0, 0.0, 1.0, 0.0,\n",
    "    0.0, 1.0, 0.0, 0.0, 1.0],  # This should make a single triangle\n",
    "    dtype='f4',\n",
    "))\n",
    "# And assign a shader to it's draw call\n",
    "### Draw a colourful triangle on top of renderBuffer1\n",
    "vb.shader(\"\"\"\n",
    "#pragma SSV shadertoy mainImage\n",
    "vec4 mainImage(in vec2 fragCoord)\n",
    "{\n",
    "    // Normalized pixel coordinates (from 0 to 1)\n",
    "    vec2 uv = fragCoord/iResolution.xy;\n",
    "    // Color from the vertex colours\n",
    "    vec3 col = color.rgb;\n",
    "    // Output to screen\n",
    "    return vec4(vec3(col), 1.0);\n",
    "}\n",
    "\"\"\")\n",
    "\n",
    "canvas4.run(stream_quality=100)"
   ]
  },
  {
   "cell_type": "markdown",
   "metadata": {},
   "source": [
    "### Camera\n",
    "When you create a canvas, an `SSVCamera` is also created and attached to it. This automatically recevies input from the canvas and makes a view and projection matrix available in the shader to be used by shaders requiring 3d perspective transformations."
   ]
  },
  {
   "cell_type": "code",
   "execution_count": 2,
   "metadata": {},
   "outputs": [
    {
     "data": {
      "application/vnd.jupyter.widget-view+json": {
       "model_id": "a3137942f03d4e8a9d726ba4dfa677c5",
       "version_major": 2,
       "version_minor": 0
      },
      "text/plain": [
       "SSVRenderWidget(streaming_mode='jpg')"
      ]
     },
     "metadata": {},
     "output_type": "display_data"
    }
   ],
   "source": [
    "import pySSV as ssv\n",
    "import numpy as np\n",
    "\n",
    "canvas5 = ssv.canvas()\n",
    "canvas5.main_render_buffer.full_screen_vertex_buffer.update_vertex_buffer(np.array([\n",
    "    # X   Y     R    G    B\n",
    "    -1.0, -1.0, 1.0, 0.0, 0.0,\n",
    "    1.0, -1.0, 0.0, 1.0, 0.0,\n",
    "    0.0, 1.0, 0.0, 0.0, 1.0],  # This should make a single triangle\n",
    "    dtype='f4',\n",
    "))\n",
    "canvas5.shader(\n",
    "\"\"\"\n",
    "#pragma SSV vert mainVert\n",
    "VertexOutput mainVert()\n",
    "{\n",
    "    VertexOutput o;\n",
    "    vec4 pos = vec4(in_vert, 1., 1.0);\n",
    "    pos = uViewMat * pos;\n",
    "    pos = uProjMat * pos;\n",
    "    o.position = pos;\n",
    "    o.color = vec4(in_color, 1.);\n",
    "    return o;\n",
    "}\n",
    "\"\"\")\n",
    "canvas5.run(stream_quality=100)"
   ]
  },
  {
   "cell_type": "markdown",
   "metadata": {},
   "source": [
    "### Data Input And Custom Textures\n",
    "There are 3 ways of getting data into a shader for rendering:\n",
    " - As vertex data\n",
    " - As a uniform\n",
    " - As a texture\n",
    "\n",
    "#### Uniforms\n",
    "Uniforms are the simplest to use, and we've already seen them in previous examples. Uniforms are great for small amounts of data which you might want to change frequently such as lighting paramaters, camera transformations, etc... There is a limit to the number of uniforms you can declare and the total amount of memory they consume, this limit depends on your platform but is generally big enough that you don't need to consider it; that is as long as you don't declare large (>1000 elements) arrays as uniforms.\n",
    "\n",
    "To assign values from python to a uniform it must be in a compatible type. Uniforms generally only accept numeric data (ints and floats) as scalars, vectors (up to 4 components), or matrices (up to 4x4 components); any appropriately sized array-like python type can be assigned to a uniform vector. See https://www.khronos.org/opengl/wiki/Data_Type_(GLSL) for more details on supported GLSL types to use with uniforms."
   ]
  },
  {
   "cell_type": "code",
   "execution_count": 4,
   "metadata": {},
   "outputs": [
    {
     "data": {
      "application/vnd.jupyter.widget-view+json": {
       "model_id": "8f96e07c9a0e400fb6b4d8b467e8d59d",
       "version_major": 2,
       "version_minor": 0
      },
      "text/plain": [
       "SSVRenderWidget(streaming_mode='jpg')"
      ]
     },
     "metadata": {},
     "output_type": "display_data"
    }
   ],
   "source": [
    "import pySSV as ssv\n",
    "\n",
    "canvas5 = ssv.canvas()\n",
    "canvas5.shader(\"\"\"\n",
    "#pragma SSV shadertoy mainImage\n",
    "uniform vec3 customColour;\n",
    "\n",
    "vec4 mainImage(in vec2 fragCoord)\n",
    "{\n",
    "    // Normalized pixel coordinates (from 0 to 1)\n",
    "    vec2 uv = fragCoord/iResolution.xy;\n",
    "    // Color from the uniform\n",
    "    // Some diagonal stripes\n",
    "    vec3 col = vec3(step(fract((fragCoord.x+fragCoord.y+iTime*50.)/50.0), 0.5));\n",
    "    // Now colour them with the uniform\n",
    "    col *= customColour;\n",
    "    // Output to screen\n",
    "    return vec4(vec3(col), 1.0);\n",
    "}\n",
    "\"\"\")\n",
    "canvas5.update_uniform(\"customColour\", (0, 1, 1))  # Magenta\n",
    "canvas5.run(stream_quality=100)"
   ]
  },
  {
   "cell_type": "markdown",
   "metadata": {},
   "source": [
    "#### Vertex Data\n",
    "For sparse spatial data, the vertex buffer is a good method of getting data into the shader. \n",
    "\n",
    "TODO..."
   ]
  },
  {
   "cell_type": "code",
   "execution_count": 5,
   "metadata": {},
   "outputs": [
    {
     "data": {
      "application/vnd.jupyter.widget-view+json": {
       "model_id": "2a6788f3c83f44d8a32a9e237c9329a8",
       "version_major": 2,
       "version_minor": 0
      },
      "text/plain": [
       "SSVRenderWidget(streaming_mode='jpg')"
      ]
     },
     "metadata": {},
     "output_type": "display_data"
    }
   ],
   "source": [
    "import pySSV as ssv\n",
    "import numpy as np\n",
    "\n",
    "canvas5 = ssv.canvas()\n",
    "canvas5.main_render_buffer.full_screen_vertex_buffer.update_vertex_buffer(np.array([\n",
    "    # X   Y     R    G    B\n",
    "    -1.0, -1.0, 1.0, 0.0, 0.0,\n",
    "    1.0, -1.0, 0.0, 1.0, 0.0,\n",
    "    0.0, 1.0, 0.0, 0.0, 1.0],  # This should make a single triangle\n",
    "    dtype='f4',\n",
    "))\n",
    "canvas5.shader(\"\"\"\n",
    "#pragma SSV shadertoy mainImage\n",
    "vec4 mainImage(in vec2 fragCoord)\n",
    "{\n",
    "    // Normalized pixel coordinates (from 0 to 1)\n",
    "    vec2 uv = fragCoord/iResolution.xy;\n",
    "    // Color from the uniform\n",
    "    // Some diagonal stripes\n",
    "    vec3 col = vec3(step(fract((fragCoord.x+fragCoord.y+iTime*50.)/50.0), 0.5));\n",
    "    // Output to screen\n",
    "    return vec4(vec3(col), 1.0);\n",
    "}\n",
    "\"\"\")\n",
    "canvas5.run(stream_quality=100)"
   ]
  },
  {
   "cell_type": "code",
   "execution_count": 2,
   "metadata": {},
   "outputs": [],
   "source": [
    "# Generate some points\n",
    "def generate_points():\n",
    "    width, depth = 64, 64\n",
    "    scale = 3\n",
    "    v_scale = 0.5\n",
    "    f = 0.01\n",
    "    verts = np.zeros((width, depth, 6), dtype='f4')\n",
    "    for z in range(depth):\n",
    "        for x in range(width):\n",
    "            dx = width/2 - x\n",
    "            dz = depth/2 - z\n",
    "            y = np.sin((dx*dx+dz*dz)*f) * v_scale\n",
    "            verts[z, x, :3] = [x/width * scale, y - 1.5, z/depth * scale]\n",
    "            verts[z, x, 3:6] = [y/v_scale, abs(y/v_scale), np.sin(y/v_scale*10.)*0.5+0.5]\n",
    "            \n",
    "    return verts.flatten()\n"
   ]
  },
  {
   "cell_type": "code",
   "execution_count": 11,
   "metadata": {},
   "outputs": [
    {
     "data": {
      "application/vnd.jupyter.widget-view+json": {
       "model_id": "5a9cf05ba8ec444e879dd500b05bcb63",
       "version_major": 2,
       "version_minor": 0
      },
      "text/plain": [
       "SSVRenderWidget(enable_renderdoc=True, streaming_mode='jpg')"
      ]
     },
     "metadata": {},
     "output_type": "display_data"
    }
   ],
   "source": [
    "import pySSV as ssv\n",
    "import numpy as np\n",
    "\n",
    "canvas5 = ssv.canvas()\n",
    "canvas5.main_render_buffer.full_screen_vertex_buffer.update_vertex_buffer(generate_points())\n",
    "canvas5.shader(\"\"\"\n",
    "#pragma SSV point_cloud mainPoint\n",
    "VertexOutput mainPoint()\n",
    "{\n",
    "    VertexOutput o;\n",
    "    vec4 pos = vec4(in_vert, 1.0);\n",
    "    pos = uViewMat * pos;\n",
    "    pos = uProjMat * pos;\n",
    "    o.position = pos;\n",
    "    o.color = vec4(in_color, 1.);\n",
    "    o.size = 30.0/uResolution.x;\n",
    "    return o;\n",
    "}\n",
    "\"\"\")\n",
    "canvas5.run(stream_quality=100)"
   ]
  },
  {
   "cell_type": "markdown",
   "metadata": {},
   "source": [
    "#### Textures\n",
    "To get large amounts of data into a shader textures are ideal.\n",
    "\n",
    "..."
   ]
  },
  {
   "cell_type": "code",
   "execution_count": 9,
   "metadata": {},
   "outputs": [
    {
     "data": {
      "application/vnd.jupyter.widget-view+json": {
       "model_id": "437d809905924816a0f49e628a8607b7",
       "version_major": 2,
       "version_minor": 0
      },
      "text/plain": [
       "SSVRenderWidget(enable_renderdoc=True, streaming_mode='jpg')"
      ]
     },
     "metadata": {},
     "output_type": "display_data"
    }
   ],
   "source": [
    "import pySSV as ssv\n",
    "import numpy as np\n",
    "\n",
    "canvas5 = ssv.canvas(use_renderdoc=True)\n",
    "canvas5.shader(\"\"\"\n",
    "#pragma SSV shadertoy mainImage\n",
    "uniform sampler2D uTexture1;\n",
    "vec4 mainImage(in vec2 fragCoord)\n",
    "{\n",
    "    // Normalized pixel coordinates (from 0 to 1)\n",
    "    vec2 uv = fragCoord/iResolution.xy;\n",
    "    // Color from the uniform\n",
    "    // Some diagonal stripes\n",
    "    vec3 col = vec3(step(fract((fragCoord.x+fragCoord.y+iTime*50.)/50.0), 0.5));\n",
    "    // Now colour them with the texture\n",
    "    col *= vec3(texture(uTexture1, uv).r);\n",
    "    // Output to screen\n",
    "    return vec4(vec3(col), 1.0);\n",
    "}\n",
    "\"\"\")\n",
    "canvas5.texture(123, np.array([\n",
    "    [200., 0.1, 0.2],\n",
    "    [0.3, 0.4, 0.5],\n",
    "    [0.6, 0.7, 0.8]\n",
    "], dtype=np.float32), \"uTexture1\")\n",
    "canvas5.run()"
   ]
  },
  {
   "cell_type": "markdown",
   "metadata": {},
   "source": [
    "-------------------"
   ]
  },
  {
   "cell_type": "code",
   "execution_count": 6,
   "metadata": {},
   "outputs": [],
   "source": [
    "if \"canvas\" in globals():\n",
    "    canvas.stop()\n",
    "if \"canvas1\" in globals():\n",
    "    canvas1.stop()\n",
    "if \"canvas2\" in globals():\n",
    "    canvas2.stop()\n",
    "if \"canvas3\" in globals():\n",
    "    canvas3.stop()\n",
    "if \"canvas4\" in globals():\n",
    "    canvas4.stop()\n",
    "if \"canvas5\" in globals():\n",
    "    canvas5.stop()\n",
    "if \"canvas6\" in globals():\n",
    "    canvas6.stop()"
   ]
  },
  {
   "cell_type": "markdown",
   "metadata": {},
   "source": [
    "### Debugging Shaders\n",
    "Shaders can get quite complex so pySSV provides a few tools to simplify debugging your shaders.\n",
    "\n",
    "#### Preprocessor Dump\n",
    "It can be helpful to view the GLSL generated by the pre processor to understand why things are going wrong:"
   ]
  },
  {
   "cell_type": "code",
   "execution_count": 1,
   "metadata": {},
   "outputs": [
    {
     "name": "stdout",
     "output_type": "stream",
     "text": [
      "#####################################\n",
      "##########  Vertex Shader  ##########\n",
      "#####################################\n",
      "#version 420\n",
      "#extension GL_ARB_shading_language_include : require\n",
      "#line 3 \"global_uniforms.glsl\"\n",
      "uniform float uTime;\n",
      "uniform vec4 uResolution;\n",
      "uniform vec2 uMouse;\n",
      "#line 14 \"global_uniforms.glsl\"\n",
      "uniform sampler2D main_render_buffer;;\n",
      "#line 23 \"template_shadertoy.glsl\"\n",
      "in vec2 in_vert;\n",
      "in vec3 in_color;\n",
      "out vec3 color;\n",
      "out vec2 position;\n",
      "void main() {\n",
      "    gl_Position = vec4(in_vert, 0.0, 1.0);\n",
      "    color = in_color;\n",
      "    position = in_vert*0.5+0.5;\n",
      "}\n",
      "\n",
      "#####################################\n",
      "########## Fragment Shader ##########\n",
      "#####################################\n",
      "#version 420\n",
      "#extension GL_ARB_shading_language_include : require\n",
      "#line 3 \"global_uniforms.glsl\"\n",
      "uniform float uTime;\n",
      "uniform vec4 uResolution;\n",
      "uniform vec2 uMouse;\n",
      "#line 14 \"global_uniforms.glsl\"\n",
      "uniform sampler2D main_render_buffer;;\n",
      "#line 36 \"template_shadertoy.glsl\"\n",
      "out vec4 fragColor;\n",
      "in vec3 color;\n",
      "in vec2 position;\n",
      "#line 3 \"TEMPLATE_DATA\"\n",
      "vec4 mainImage( in vec2 fragCoord )\n",
      "{\n",
      "    // Normalized pixel coordinates (from 0 to 1)\n",
      "    vec2 uv = fragCoord/uResolution.xx;\n",
      "    float aaScale = 1./uResolution.x;\n",
      "\n",
      "    vec2 mouse = uv-uMouse.xy / uResolution.xx;\n",
      "\n",
      "    // Time varying pixel color\n",
      "    vec3 col = vec3(smoothstep(0.9, .95, 1.-length(mouse)));\n",
      "    col -= 1.-vec3(step(dot(step(abs(mouse), vec2(0.8/uResolution.x, 5./uResolution.x)), vec2(0.5)), 0.5));\n",
      "    col -= 1.-vec3(step(dot(step(abs(mouse), vec2(5./uResolution.x, 0.8/uResolution.x)), vec2(0.5)), 0.5));\n",
      "\n",
      "    // Output to screen\n",
      "    return vec4(vec3(col), 1.0);\n",
      "}\n",
      "#line 42 \"template_shadertoy.glsl\"\n",
      "void main() {\n",
      "\n",
      "    fragColor = mainImage(position * uResolution.xy) + vec4(color, 1.0)*1e-6;\n",
      "}\n"
     ]
    }
   ],
   "source": [
    "import pySSV as ssv\n",
    "canvas1 = ssv.canvas()\n",
    "shader = canvas1.dbg_preprocess_shader(\"\"\"\n",
    "#pragma SSV shadertoy mainImage\n",
    "vec4 mainImage( in vec2 fragCoord )\n",
    "{\n",
    "    // Normalized pixel coordinates (from 0 to 1)\n",
    "    vec2 uv = fragCoord/iResolution.xx;\n",
    "    float aaScale = 1./iResolution.x;\n",
    "\n",
    "    vec2 mouse = uv-iMouse.xy / iResolution.xx;\n",
    "\n",
    "    // Time varying pixel color\n",
    "    vec3 col = vec3(smoothstep(0.9, .95, 1.-length(mouse)));\n",
    "    col -= 1.-vec3(step(dot(step(abs(mouse), vec2(0.8/iResolution.x, 5./iResolution.x)), vec2(0.5)), 0.5));\n",
    "    col -= 1.-vec3(step(dot(step(abs(mouse), vec2(5./iResolution.x, 0.8/iResolution.x)), vec2(0.5)), 0.5));\n",
    "\n",
    "    // Output to screen\n",
    "    return vec4(vec3(col), 1.0);\n",
    "}\n",
    "\"\"\")\n",
    "print(\"#####################################\")\n",
    "print(\"##########  Vertex Shader  ##########\")\n",
    "print(\"#####################################\")\n",
    "print(shader[\"vertex_shader\"])\n",
    "print(\"#####################################\")\n",
    "print(\"########## Fragment Shader ##########\")\n",
    "print(\"#####################################\")\n",
    "print(shader[\"fragment_shader\"])"
   ]
  },
  {
   "cell_type": "markdown",
   "metadata": {},
   "source": [
    "#### List Shader Templates\n",
    "You can also get a list of all the installed shader templates."
   ]
  },
  {
   "cell_type": "code",
   "execution_count": 2,
   "metadata": {},
   "outputs": [
    {
     "name": "stdout",
     "output_type": "stream",
     "text": [
      "Found shader templates: \n",
      "\n",
      "\t'pixel'\n",
      "\t\tAuthor: Thomas Mathieson\n",
      "\t\tDescription: A simple full screen pixel shader.\n",
      "\n",
      "\t'sdf'\n",
      "\t\tAuthor: Thomas Mathieson\n",
      "\t\tDescription: A shader template which allows you to render custom signed distance functions.\n",
      "\n",
      "\t'shadertoy'\n",
      "\t\tAuthor: Thomas Mathieson\n",
      "\t\tDescription: A simple full screen pixel shader with compatibility for Shadertoy shaders.\n",
      "\n",
      "\t'vert'\n",
      "\t\tAuthor: Thomas Mathieson\n",
      "\t\tDescription: A minimal shader template to render vertices with their vertex colours.\n"
     ]
    }
   ],
   "source": [
    "print(canvas1.dbg_query_shader_templates(additional_template_directory=None))"
   ]
  },
  {
   "cell_type": "markdown",
   "metadata": {},
   "source": [
    "#### Query Shader Template Arguments\n",
    "And you can query a shader template for it's arguments."
   ]
  },
  {
   "cell_type": "code",
   "execution_count": 3,
   "metadata": {},
   "outputs": [
    {
     "name": "stdout",
     "output_type": "stream",
     "text": [
      "usage: #pragma SSV sdf [--camera_distance CAMERA_DISTANCE] [--rotate_speed ROTATE_SPEED] [--raymarch_steps RAYMARCH_STEPS]\n",
      "                       [--raymarch_distance RAYMARCH_DISTANCE] [--light_dir LIGHT_DIR] [--render_mode {SOLID,DEPTH,XRAY,ISOLINES}]\n",
      "                       entrypoint\n",
      "\n",
      "A shader template which allows you to render custom signed distance functions.\n",
      "\n",
      "positional arguments:\n",
      "  entrypoint            The name of the sdf function in the shader.\n",
      "\n",
      "options:\n",
      "  --camera_distance CAMERA_DISTANCE, -c CAMERA_DISTANCE\n",
      "                        The distance of the camera from the centre of the distance field. (default: 10.0)\n",
      "  --rotate_speed ROTATE_SPEED, -r ROTATE_SPEED\n",
      "                        The orbit speed of the camera around the SDF, in radians/second. (default: 0.1)\n",
      "  --raymarch_steps RAYMARCH_STEPS\n",
      "                        The number of raymarching steps to use when rendering, turn this up if the edges of surfaces look soft. (default: 128)\n",
      "  --raymarch_distance RAYMARCH_DISTANCE\n",
      "                        The maximum distance to raymarch. (default: 32.)\n",
      "  --light_dir LIGHT_DIR, -l LIGHT_DIR\n",
      "                        The maximum distance to raymarch. (default: normalize(vec3(0.5, 0.5, -0.9)))\n",
      "  --render_mode {SOLID,DEPTH,XRAY,ISOLINES}\n",
      "                        How the distance field should be rendered. Check the documentation for more information about each mode. (default: SOLID)\n",
      "\n",
      "author: Thomas Mathieson\n"
     ]
    }
   ],
   "source": [
    "print(canvas1.dbg_query_shader_template(\"sdf\"))"
   ]
  },
  {
   "cell_type": "markdown",
   "metadata": {},
   "source": [
    "#### OpenGL Context\n",
    "If you're trying to track down a driver bug or platform specific oddity, having the graphics adapter information can be helpful"
   ]
  },
  {
   "cell_type": "code",
   "execution_count": null,
   "metadata": {},
   "outputs": [],
   "source": [
    "canvas1.dbg_log_context(full=True)"
   ]
  },
  {
   "cell_type": "markdown",
   "metadata": {},
   "source": [
    "#### Frame Times\n",
    "*pySSV* also provides rudimentry frame time logging to identify bottlenecks."
   ]
  },
  {
   "cell_type": "code",
   "execution_count": 11,
   "metadata": {},
   "outputs": [],
   "source": [
    "canvas1.dbg_log_frame_times(enabled=True)\n",
    "# Then you just need to run the canvas\n",
    "# canvas1.dbg_render_test()\n",
    "# canvas1.run()"
   ]
  },
  {
   "cell_type": "code",
   "execution_count": 12,
   "metadata": {},
   "outputs": [],
   "source": [
    "canvas1.stop(force=True)"
   ]
  },
  {
   "cell_type": "markdown",
   "metadata": {},
   "source": [
    "#### Debugging Shaders With Renderdoc\n",
    "[Renderdoc](https://renderdoc.org/) is a powerful open-source graphics debugger. To use Renderdoc with *pySSV*, install the python bindings for the Renderdoc in-app API (https://github.com/space928/pyRenderdocApp/):"
   ]
  },
  {
   "cell_type": "code",
   "execution_count": 14,
   "metadata": {},
   "outputs": [
    {
     "name": "stdout",
     "output_type": "stream",
     "text": [
      "Requirement already satisfied: pyRenderdocApp in c:\\users\\thoma\\.conda\\envs\\pyssv-dev\\lib\\site-packages (0.1.0)\n",
      "Note: you may need to restart the kernel to use updated packages.\n"
     ]
    }
   ],
   "source": [
    "%pip install pyRenderdocApp"
   ]
  },
  {
   "cell_type": "markdown",
   "metadata": {},
   "source": [
    "Then simply create a new `SSVCanvas` with `use_renderdoc_api` set to `True` and the Renderdoc API will be loaded automatically. To capture a frame simply press the Renderdoc logo button in the widget."
   ]
  },
  {
   "cell_type": "code",
   "execution_count": 2,
   "metadata": {},
   "outputs": [
    {
     "data": {
      "application/vnd.jupyter.widget-view+json": {
       "model_id": "5daf9ccf561c4ddb8879ea395a9a072a",
       "version_major": 2,
       "version_minor": 0
      },
      "text/plain": [
       "SSVRenderWidget(enable_renderdoc=True, streaming_mode='jpg')"
      ]
     },
     "metadata": {},
     "output_type": "display_data"
    }
   ],
   "source": [
    "try:\n",
    "    import pySSV as ssv\n",
    "    import pyRenderdocApp\n",
    "    \n",
    "    canvas = ssv.canvas(use_renderdoc=True)\n",
    "    canvas.shader(\"#pragma SSV render_test\")\n",
    "    canvas.run()\n",
    "except ImportError:\n",
    "    print(\"Couldn't import pyRenderdocApp!\")"
   ]
  },
  {
   "cell_type": "code",
   "execution_count": 6,
   "metadata": {},
   "outputs": [],
   "source": [
    "canvas.stop(force=True)"
   ]
  },
  {
   "cell_type": "code",
   "execution_count": null,
   "metadata": {},
   "outputs": [],
   "source": []
  }
 ],
 "metadata": {
  "kernelspec": {
   "display_name": "Python 3 (ipykernel)",
   "language": "python",
   "name": "python3"
  },
  "language_info": {
   "codemirror_mode": {
    "name": "ipython",
    "version": 3
   },
   "file_extension": ".py",
   "mimetype": "text/x-python",
   "name": "python",
   "nbconvert_exporter": "python",
   "pygments_lexer": "ipython3",
   "version": "3.11.6"
  }
 },
 "nbformat": 4,
 "nbformat_minor": 4
}
